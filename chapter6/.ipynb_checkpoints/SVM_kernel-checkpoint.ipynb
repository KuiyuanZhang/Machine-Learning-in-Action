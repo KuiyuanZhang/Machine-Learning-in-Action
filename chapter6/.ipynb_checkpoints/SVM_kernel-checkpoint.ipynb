{
 "cells": [
  {
   "cell_type": "code",
   "execution_count": 1,
   "metadata": {
    "collapsed": true
   },
   "outputs": [],
   "source": [
    "def kernelTrans(X, A, kTup):  # calc the kernel or transform data to a higher dimensional space\n",
    "    \"\"\"\n",
    "    核转换函数\n",
    "    Args:\n",
    "        X     dataMatIn数据集\n",
    "        A     dataMatIn数据集的第i行的数据\n",
    "        kTup  核函数的信息\n",
    "\n",
    "    Returns:\n",
    "\n",
    "    \"\"\"\n",
    "    m, n = shape(X)\n",
    "    K = mat(zeros((m, 1)))\n",
    "    if kTup[0] == 'lin':\n",
    "        # linear kernel:   m*n * n*1 = m*1\n",
    "        K = X * A.T\n",
    "    elif kTup[0] == 'rbf':\n",
    "        for j in range(m):\n",
    "            deltaRow = X[j, :] - A\n",
    "            K[j] = deltaRow * deltaRow.T\n",
    "        # 径向基函数的高斯版本\n",
    "        K = exp(K / (-1 * kTup[1] ** 2))  # divide in NumPy is element-wise not matrix like Matlab\n",
    "    else:\n",
    "        raise NameError('Houston We Have a Problem -- That Kernel is not recognized')\n",
    "    return K"
   ]
  },
  {
   "cell_type": "code",
   "execution_count": 2,
   "metadata": {
    "collapsed": true
   },
   "outputs": [],
   "source": [
    "class optStruct:\n",
    "    \"\"\"\n",
    "    建立的数据结构来保存所有的重要值\n",
    "    \"\"\"\n",
    "    def __init__(self, dataMatIn, classLabels, C, toler, kTup):\n",
    "        \"\"\"\n",
    "        Args:\n",
    "            dataMatIn    数据集\n",
    "            classLabels  类别标签\n",
    "            C   松弛变量(常量值)，允许有些数据点可以处于分隔面的错误一侧。\n",
    "                控制最大化间隔和保证大部分的函数间隔小于1.0这两个目标的权重。\n",
    "                可以通过调节该参数达到不同的结果。\n",
    "            toler   容错率\n",
    "            kTup    包含核函数信息的元组\n",
    "        \"\"\"\n",
    "\n",
    "        self.X = dataMatIn\n",
    "        self.labelMat = classLabels\n",
    "        self.C = C\n",
    "        self.tol = toler\n",
    "\n",
    "        # 数据的行数\n",
    "        self.m = shape(dataMatIn)[0]\n",
    "        self.alphas = mat(zeros((self.m, 1)))\n",
    "        self.b = 0\n",
    "\n",
    "        # 误差缓存，第一列给出的是eCache是否有效的标志位，第二列给出的是实际的E值。\n",
    "        self.eCache = mat(zeros((self.m, 2)))\n",
    "\n",
    "        # m行m列的矩阵\n",
    "        self.K = mat(zeros((self.m, self.m)))\n",
    "        for i in range(self.m):\n",
    "            self.K[:, i] = kernelTrans(self.X, self.X[i, :], kTup)"
   ]
  },
  {
   "cell_type": "code",
   "execution_count": 3,
   "metadata": {
    "collapsed": true
   },
   "outputs": [],
   "source": [
    "def testRbf(k1=1.3):\n",
    "    dataArr, labelArr = loadDataSet('testSetRBF.txt')\n",
    "    b, alphas = smoP(dataArr, labelArr, 200, 0.0001, 10000, ('rbf', k1))  # C=200 important\n",
    "    datMat = mat(dataArr)\n",
    "    labelMat = mat(labelArr).transpose()\n",
    "    svInd = nonzero(alphas.A > 0)[0]\n",
    "    sVs = datMat[svInd]  # get matrix of only support vectors\n",
    "    labelSV = labelMat[svInd]\n",
    "    print(\"there are %d Support Vectors\" % shape(sVs)[0])\n",
    "    m, n = shape(datMat)\n",
    "    errorCount = 0\n",
    "    for i in range(m):\n",
    "        kernelEval = kernelTrans(sVs, datMat[i, :], ('rbf', k1))\n",
    "\n",
    "        # 和这个svm-simple类似： fXi = float(multiply(alphas, labelMat).T*(dataMatrix*dataMatrix[i, :].T)) + b\n",
    "        predict = kernelEval.T * multiply(labelSV, alphas[svInd]) + b\n",
    "        if sign(predict) != sign(labelArr[i]):\n",
    "            errorCount += 1\n",
    "    print(\"the training error rate is: %f\" % (float(errorCount) / m))\n",
    "\n",
    "    dataArr, labelArr = loadDataSet('testSetRBF2.txt')\n",
    "    errorCount = 0\n",
    "    datMat = mat(dataArr)\n",
    "    labelMat = mat(labelArr).transpose()\n",
    "    m, n = shape(datMat)\n",
    "    for i in range(m):\n",
    "        kernelEval = kernelTrans(sVs, datMat[i, :], ('rbf', k1))\n",
    "        predict = kernelEval.T * multiply(labelSV, alphas[svInd]) + b\n",
    "        if sign(predict) != sign(labelArr[i]):\n",
    "            errorCount += 1\n",
    "    print(\"the test error rate is: %f\" % (float(errorCount) / m))"
   ]
  },
  {
   "cell_type": "markdown",
   "metadata": {},
   "source": [
    "# 实例 手写识别问题回顾"
   ]
  },
  {
   "cell_type": "code",
   "execution_count": 4,
   "metadata": {
    "collapsed": true
   },
   "outputs": [],
   "source": [
    "def loadDataSet(fileName):\n",
    "    \"\"\"loadDataSet（对文件进行逐行解析，从而得到第行的类标签和整个数据矩阵）\n",
    "\n",
    "    Args:\n",
    "        fileName 文件名\n",
    "    Returns:\n",
    "        dataMat  数据矩阵\n",
    "        labelMat 类标签\n",
    "    \"\"\"\n",
    "    dataMat = []\n",
    "    labelMat = []\n",
    "    fr = open(fileName)\n",
    "    for line in fr.readlines():\n",
    "        lineArr = line.strip().split('\\t')\n",
    "        dataMat.append([float(lineArr[0]), float(lineArr[1])])\n",
    "        labelMat.append(float(lineArr[2]))\n",
    "    return dataMat, labelMat"
   ]
  },
  {
   "cell_type": "code",
   "execution_count": 5,
   "metadata": {
    "collapsed": true
   },
   "outputs": [],
   "source": [
    "def testDigits(kTup=('rbf', 10)):\n",
    "\n",
    "    # 1. 导入训练数据\n",
    "    dataArr, labelArr = loadImages('input/6.SVM/trainingDigits')\n",
    "    b, alphas = smoP(dataArr, labelArr, 200, 0.0001, 10000, kTup)\n",
    "    datMat = mat(dataArr)\n",
    "    labelMat = mat(labelArr).transpose()\n",
    "    svInd = nonzero(alphas.A > 0)[0]\n",
    "    sVs = datMat[svInd]\n",
    "    labelSV = labelMat[svInd]\n",
    "    # print(\"there are %d Support Vectors\" % shape(sVs)[0])\n",
    "    m, n = shape(datMat)\n",
    "    errorCount = 0\n",
    "    for i in range(m):\n",
    "        kernelEval = kernelTrans(sVs, datMat[i, :], kTup)\n",
    "        # 1*m * m*1 = 1*1 单个预测结果\n",
    "        predict = kernelEval.T * multiply(labelSV, alphas[svInd]) + b\n",
    "        if sign(predict) != sign(labelArr[i]): errorCount += 1\n",
    "    print(\"the training error rate is: %f\" % (float(errorCount) / m))\n",
    "\n",
    "    # 2. 导入测试数据\n",
    "    dataArr, labelArr = loadImages('input/6.SVM/testDigits')\n",
    "    errorCount = 0\n",
    "    datMat = mat(dataArr)\n",
    "    labelMat = mat(labelArr).transpose()\n",
    "    m, n = shape(datMat)\n",
    "    for i in range(m):\n",
    "        kernelEval = kernelTrans(sVs, datMat[i, :], kTup)\n",
    "        predict = kernelEval.T * multiply(labelSV, alphas[svInd]) + b\n",
    "        if sign(predict) != sign(labelArr[i]): errorCount += 1\n",
    "    print(\"the test error rate is: %f\" % (float(errorCount) / m))"
   ]
  },
  {
   "cell_type": "code",
   "execution_count": null,
   "metadata": {
    "collapsed": true
   },
   "outputs": [],
   "source": []
  }
 ],
 "metadata": {
  "kernelspec": {
   "display_name": "Python 3",
   "language": "python",
   "name": "python3"
  },
  "language_info": {
   "codemirror_mode": {
    "name": "ipython",
    "version": 3
   },
   "file_extension": ".py",
   "mimetype": "text/x-python",
   "name": "python",
   "nbconvert_exporter": "python",
   "pygments_lexer": "ipython3",
   "version": "3.6.1"
  }
 },
 "nbformat": 4,
 "nbformat_minor": 2
}
