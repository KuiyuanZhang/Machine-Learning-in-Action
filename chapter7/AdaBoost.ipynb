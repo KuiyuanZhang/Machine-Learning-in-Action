{
 "cells": [
  {
   "cell_type": "code",
   "execution_count": 74,
   "metadata": {
    "collapsed": true
   },
   "outputs": [],
   "source": [
    "from numpy import *"
   ]
  },
  {
   "cell_type": "code",
   "execution_count": 75,
   "metadata": {
    "collapsed": true
   },
   "outputs": [],
   "source": [
    "def loadSimpData():\n",
    "    \"\"\" 测试数据\n",
    "    Returns:\n",
    "        dataArr   feature对应的数据集\n",
    "        labelArr  feature对应的分类标签\n",
    "    \"\"\"\n",
    "    dataArr = array([[1., 2.1], [2., 1.1], [1.3, 1.], [1., 1.], [2., 1.]])\n",
    "    labelArr = [1.0, 1.0, -1.0, -1.0, 1.0]\n",
    "    return dataArr, labelArr"
   ]
  },
  {
   "cell_type": "code",
   "execution_count": 76,
   "metadata": {
    "collapsed": true
   },
   "outputs": [],
   "source": [
    "dataMat, classLabels = loadSimpData()"
   ]
  },
  {
   "cell_type": "code",
   "execution_count": 77,
   "metadata": {
    "collapsed": true
   },
   "outputs": [],
   "source": [
    "def stumpClassify(dataMat, dimen, threshVal, threshIneq):\n",
    "    \"\"\"stumpClassify(将数据集，按照feature列的value进行 二分法切分比较来赋值分类)\n",
    "\n",
    "    Args:\n",
    "        dataMat    Matrix数据集\n",
    "        dimen      特征列\n",
    "        threshVal  特征列要比较的值\n",
    "    Returns:\n",
    "        retArray 结果集\n",
    "    \"\"\"\n",
    "    # 默认都是1\n",
    "    retArray = ones((shape(dataMat)[0], 1))\n",
    "    # dataMat[:, dimen] 表示数据集中第dimen列的所有值\n",
    "    # threshIneq == 'lt'表示修改左边的值，gt表示修改右边的值\n",
    "    # print '-----', threshIneq, dataMat[:, dimen], threshVal\n",
    "    if threshIneq == 'lt':\n",
    "        retArray[dataMat[:, dimen] <= threshVal] = -1.0\n",
    "    else:\n",
    "        retArray[dataMat[:, dimen] > threshVal] = -1.0\n",
    "    return retArray"
   ]
  },
  {
   "cell_type": "code",
   "execution_count": 78,
   "metadata": {
    "collapsed": true
   },
   "outputs": [],
   "source": [
    "def buildStump(dataArr, labelArr, D):\n",
    "    \"\"\"buildStump(得到决策树的模型)\n",
    "\n",
    "    Args:\n",
    "        dataArr   特征标签集合\n",
    "        labelArr  分类标签集合\n",
    "        D         最初的特征权重值\n",
    "    Returns:\n",
    "        bestStump    最优的分类器模型\n",
    "        minError     错误率\n",
    "        bestClasEst  训练后的结果集\n",
    "    \"\"\"\n",
    "    # 转换数据\n",
    "    dataMat = mat(dataArr)\n",
    "    labelMat = mat(labelArr).T\n",
    "    # m行 n列\n",
    "    m, n = shape(dataMat)\n",
    "\n",
    "    # 初始化数据\n",
    "    numSteps = 10.0\n",
    "    bestStump = {}\n",
    "    bestClasEst = mat(zeros((m, 1)))\n",
    "    # 初始化的最小误差为无穷大\n",
    "    minError = inf\n",
    "\n",
    "    # 循环所有的feature列，将列切分成 若干份，每一段以最左边的点作为分类节点\n",
    "    for i in range(n):\n",
    "        rangeMin = dataMat[:, i].min()\n",
    "        rangeMax = dataMat[:, i].max()\n",
    "        # print 'rangeMin=%s, rangeMax=%s' % (rangeMin, rangeMax)\n",
    "        # 计算每一份的元素个数\n",
    "        stepSize = (rangeMax-rangeMin)/numSteps\n",
    "        # 例如： 4=(10-1)/2   那么  1-4(-1次)   1(0次)  1+1*4(1次)   1+2*4(2次)\n",
    "        # 所以： 循环 -1/0/1/2\n",
    "        for j in range(-1, int(numSteps)+1):\n",
    "            # go over less than and greater than\n",
    "            for inequal in ['lt', 'gt']:\n",
    "                # 如果是-1，那么得到rangeMin-stepSize; 如果是numSteps，那么得到rangeMax\n",
    "                threshVal = (rangeMin + float(j) * stepSize)\n",
    "                # 对单层决策树进行简单分类，得到预测的分类值\n",
    "                predictedVals = stumpClassify(dataMat, i, threshVal, inequal)\n",
    "                # print predictedVals\n",
    "                errArr = mat(ones((m, 1)))\n",
    "                # 正确为0，错误为1\n",
    "                errArr[predictedVals == labelMat] = 0\n",
    "                # 计算 平均每个特征的概率0.2*错误概率的总和为多少，就知道错误率多高\n",
    "                # 例如： 一个都没错，那么错误率= 0.2*0=0 ， 5个都错，那么错误率= 0.2*5=1， 只错3个，那么错误率= 0.2*3=0.6\n",
    "                weightedError = D.T*errArr\n",
    "                '''\n",
    "                dim            表示 feature列\n",
    "                threshVal      表示树的分界值\n",
    "                inequal        表示计算树左右颠倒的错误率的情况\n",
    "                weightedError  表示整体结果的错误率\n",
    "                bestClasEst    预测的最优结果\n",
    "                '''\n",
    "                # print \"split: dim %d, thresh %.2f, thresh ineqal: %s, the weighted error is %.3f\" % (i, threshVal, inequal, weightedError)\n",
    "                if weightedError < minError:\n",
    "                    minError = weightedError\n",
    "                    bestClasEst = predictedVals.copy()\n",
    "                    bestStump['dim'] = i\n",
    "                    bestStump['thresh'] = threshVal\n",
    "                    bestStump['ineq'] = inequal\n",
    "\n",
    "    # bestStump 表示分类器的结果，在第几个列上，用大于／小于比较，阈值是多少\n",
    "    return bestStump, minError, bestClasEst"
   ]
  },
  {
   "cell_type": "code",
   "execution_count": 79,
   "metadata": {},
   "outputs": [
    {
     "data": {
      "text/plain": [
       "({'dim': 0, 'ineq': 'lt', 'thresh': 1.3}, matrix([[ 0.2]]), array([[-1.],\n",
       "        [ 1.],\n",
       "        [-1.],\n",
       "        [-1.],\n",
       "        [ 1.]]))"
      ]
     },
     "execution_count": 79,
     "metadata": {},
     "output_type": "execute_result"
    }
   ],
   "source": [
    "# D表示最初值，对1进行均分为5份，平均每一个初始的概率都为0.2\n",
    "# D的目的是为了计算错误概率： weightedError = D.T*errArr\n",
    "D = mat(ones((5, 1))/5)\n",
    "#print 'D=', D.T\n",
    "buildStump(dataMat, classLabels, D )"
   ]
  },
  {
   "cell_type": "markdown",
   "metadata": {},
   "source": [
    "# 完整AdaBoost算法的实现"
   ]
  },
  {
   "cell_type": "code",
   "execution_count": 80,
   "metadata": {
    "collapsed": true
   },
   "outputs": [],
   "source": [
    "def adaBoostTrainDS(dataArr, labelArr, numIt=40):\n",
    "    \"\"\"adaBoostTrainDS(adaBoost训练过程放大)\n",
    "\n",
    "    Args:\n",
    "        dataArr   特征标签集合\n",
    "        labelArr  分类标签集合\n",
    "        numIt     实例数\n",
    "    Returns:\n",
    "        weakClassArr  弱分类器的集合\n",
    "        aggClassEst   预测的分类结果值\n",
    "    \"\"\"\n",
    "    weakClassArr = []\n",
    "    m = shape(dataArr)[0]\n",
    "    # 初始化 D，设置每个特征的权重值，平均分为m份\n",
    "    D = mat(ones((m, 1))/m)\n",
    "    aggClassEst = mat(zeros((m, 1)))\n",
    "    for i in range(numIt):\n",
    "        # 得到决策树的模型\n",
    "        bestStump, error, classEst = buildStump(dataArr, labelArr, D)\n",
    "\n",
    "        # alpha 目的主要是计算每一个分类器实例的权重(加和就是分类结果)\n",
    "        # 计算每个分类器的 alpha 权重值\n",
    "        alpha = float(0.5*log((1.0-error)/max(error, 1e-16)))\n",
    "        bestStump['alpha'] = alpha\n",
    "        # store Stump Params in Array\n",
    "        weakClassArr.append(bestStump)\n",
    "\n",
    "        # print \"alpha=%s, classEst=%s, bestStump=%s, error=%s \" % (alpha, classEst.T, bestStump, error)\n",
    "        # 分类正确：乘积为1，不会影响结果，-1主要是下面求e的-alpha次方\n",
    "        # 分类错误：乘积为 -1，结果会受影响，所以也乘以 -1\n",
    "        expon = multiply(-1*alpha*mat(labelArr).T, classEst)\n",
    "        # print '\\n'\n",
    "        # print 'labelArr=', labelArr\n",
    "        # print 'classEst=', classEst.T\n",
    "        # print '\\n'\n",
    "        # print '乘积: ', multiply(mat(labelArr).T, classEst).T\n",
    "        # 判断正确的，就乘以-1，否则就乘以1， 为什么？ 书上的公式。\n",
    "        # print '(-1取反)预测值expon=', expon.T\n",
    "        # 计算e的expon次方，然后计算得到一个综合的概率的值\n",
    "        # 结果发现： 判断错误的样本，D对于的样本权重值会变大。\n",
    "        D = multiply(D, exp(expon))\n",
    "        D = D/D.sum()\n",
    "        # print \"D: \", D.T\n",
    "        # print '\\n'\n",
    "\n",
    "        # 预测的分类结果值，在上一轮结果的基础上，进行加和操作\n",
    "        # print '当前的分类结果：', alpha*classEst.T\n",
    "        aggClassEst += alpha*classEst\n",
    "        # print \"叠加后的分类结果aggClassEst: \", aggClassEst.T\n",
    "        # sign 判断正为1， 0为0， 负为-1，通过最终加和的权重值，判断符号。\n",
    "        # 结果为：错误的样本标签集合，因为是 !=,那么结果就是0 正, 1 负\n",
    "        aggErrors = multiply(sign(aggClassEst) != mat(labelArr).T, ones((m, 1)))\n",
    "        errorRate = aggErrors.sum()/m\n",
    "        # print \"total error=%s \" % (errorRate)\n",
    "        if errorRate == 0.0:\n",
    "            break\n",
    "    return weakClassArr, aggClassEst"
   ]
  },
  {
   "cell_type": "code",
   "execution_count": 81,
   "metadata": {},
   "outputs": [
    {
     "data": {
      "text/plain": [
       "([{'alpha': 0.6931471805599453, 'dim': 0, 'ineq': 'lt', 'thresh': 1.3},\n",
       "  {'alpha': 0.9729550745276565, 'dim': 1, 'ineq': 'lt', 'thresh': 1.0},\n",
       "  {'alpha': 0.8958797346140273,\n",
       "   'dim': 0,\n",
       "   'ineq': 'lt',\n",
       "   'thresh': 0.90000000000000002}],\n",
       " matrix([[ 1.17568763],\n",
       "         [ 2.56198199],\n",
       "         [-0.77022252],\n",
       "         [-0.77022252],\n",
       "         [ 0.61607184]]))"
      ]
     },
     "execution_count": 81,
     "metadata": {},
     "output_type": "execute_result"
    }
   ],
   "source": [
    "classifierArray = adaBoostTrainDS(dataMat, classLabels, 9)\n",
    "classifierArray"
   ]
  },
  {
   "cell_type": "markdown",
   "metadata": {},
   "source": [
    "# 测试算法：基于AdaBoost的分类"
   ]
  },
  {
   "cell_type": "code",
   "execution_count": 82,
   "metadata": {},
   "outputs": [],
   "source": [
    "def adaClassify(datToClass, classifierArr):\n",
    "    # do stuff similar to last aggClassEst in adaBoostTrainDS\n",
    "    dataMat = mat(datToClass)\n",
    "    m = shape(dataMat)[0]\n",
    "    aggClassEst = mat(zeros((m, 1)))\n",
    "    # 循环 多个分类器\n",
    "    for i in range(len(classifierArr)):\n",
    "        # 前提： 我们已经知道了最佳的分类器的实例\n",
    "        # 通过分类器来核算每一次的分类结果，然后通过alpha*每一次的结果 得到最后的权重加和的值。\n",
    "        classEst = stumpClassify(dataMat, classifierArr[0][i]['dim'],classifierArr[0][i]['thresh'],classifierArr[0][i]['ineq']) \n",
    "        aggClassEst += classifierArr[0][i]['alpha']*classEst \n",
    "        print (aggClassEst)\n",
    "    return sign(aggClassEst)"
   ]
  },
  {
   "cell_type": "code",
   "execution_count": 83,
   "metadata": {},
   "outputs": [
    {
     "name": "stdout",
     "output_type": "stream",
     "text": [
      "([{'dim': 0, 'thresh': 1.3, 'ineq': 'lt', 'alpha': 0.6931471805599453}, {'dim': 1, 'thresh': 1.0, 'ineq': 'lt', 'alpha': 0.9729550745276565}, {'dim': 0, 'thresh': 0.90000000000000002, 'ineq': 'lt', 'alpha': 0.8958797346140273}], matrix([[ 1.17568763],\n",
      "        [ 2.56198199],\n",
      "        [-0.77022252],\n",
      "        [-0.77022252],\n",
      "        [ 0.61607184]]))\n"
     ]
    }
   ],
   "source": [
    "datArr, labelArr = loadSimpData()\n",
    "classifierArr = adaBoostTrainDS(datArr, labelArr, 30)\n",
    "print (classifierArr)"
   ]
  },
  {
   "cell_type": "code",
   "execution_count": 84,
   "metadata": {},
   "outputs": [
    {
     "name": "stdout",
     "output_type": "stream",
     "text": [
      "[[-0.69314718]]\n",
      "[[-1.66610226]]\n"
     ]
    },
    {
     "data": {
      "text/plain": [
       "matrix([[-1.]])"
      ]
     },
     "execution_count": 84,
     "metadata": {},
     "output_type": "execute_result"
    }
   ],
   "source": [
    "adaClassify([0,0], classifierArr)"
   ]
  },
  {
   "cell_type": "code",
   "execution_count": 85,
   "metadata": {},
   "outputs": [
    {
     "name": "stdout",
     "output_type": "stream",
     "text": [
      "[[ 0.69314718]\n",
      " [-0.69314718]]\n",
      "[[ 1.66610226]\n",
      " [-1.66610226]]\n"
     ]
    },
    {
     "data": {
      "text/plain": [
       "matrix([[ 1.],\n",
       "        [-1.]])"
      ]
     },
     "execution_count": 85,
     "metadata": {},
     "output_type": "execute_result"
    }
   ],
   "source": [
    "adaClassify([[5,5],[0,0]], classifierArr)"
   ]
  },
  {
   "cell_type": "markdown",
   "metadata": {},
   "source": [
    "# 示例 在一个难数据集上应用AdaBoost"
   ]
  },
  {
   "cell_type": "code",
   "execution_count": 86,
   "metadata": {
    "collapsed": true
   },
   "outputs": [],
   "source": [
    "# general function to parse tab -delimited floats\n",
    "def loadDataSet(fileName):\n",
    "    # get number of fields\n",
    "    numFeat = len(open(fileName).readline().split('\\t'))\n",
    "    dataArr = []\n",
    "    labelArr = []\n",
    "    fr = open(fileName)\n",
    "    for line in fr.readlines():\n",
    "        lineArr = []\n",
    "        curLine = line.strip().split('\\t')\n",
    "        for i in range(numFeat-1):\n",
    "            lineArr.append(float(curLine[i]))\n",
    "        dataArr.append(lineArr)\n",
    "        labelArr.append(float(curLine[-1]))\n",
    "    return dataArr, labelArr"
   ]
  },
  {
   "cell_type": "code",
   "execution_count": 87,
   "metadata": {},
   "outputs": [
    {
     "name": "stdout",
     "output_type": "stream",
     "text": [
      "[{'dim': 9, 'thresh': 3.0, 'ineq': 'gt', 'alpha': 0.4616623792657674}, {'dim': 17, 'thresh': 52.5, 'ineq': 'gt', 'alpha': 0.31248245042467104}, {'dim': 3, 'thresh': 55.199999999999996, 'ineq': 'gt', 'alpha': 0.2868097320169577}, {'dim': 18, 'thresh': 62.300000000000004, 'ineq': 'lt', 'alpha': 0.23297004638939506}, {'dim': 10, 'thresh': 0.0, 'ineq': 'lt', 'alpha': 0.19803846151213741}, {'dim': 5, 'thresh': 2.0, 'ineq': 'gt', 'alpha': 0.18847887349020634}, {'dim': 12, 'thresh': 1.2, 'ineq': 'lt', 'alpha': 0.15227368997476778}, {'dim': 7, 'thresh': 1.2, 'ineq': 'gt', 'alpha': 0.15510870821690512}, {'dim': 5, 'thresh': 0.0, 'ineq': 'lt', 'alpha': 0.13536197353359405}, {'dim': 4, 'thresh': 28.799999999999997, 'ineq': 'lt', 'alpha': 0.12521587326132078}] \n",
      "-----\n",
      " [[-0.646419    0.53886223  0.91726555  0.21712009 -0.69768794  1.22181293\n",
      "   1.22748297  0.58145314 -0.40165729  0.03508613  0.27123572  0.59407783\n",
      "   1.53203035  0.64819347  1.04739323 -0.40165729 -1.02662219  0.5606821\n",
      "   0.34364609 -0.40784481 -0.02469954  1.53203035  1.1676973   1.0995114\n",
      "   0.73717581  0.23749438  0.52166747  0.85052522  0.5606821   1.69342306\n",
      "  -1.02662219 -0.03331166  0.95841088  0.6538635  -0.40165729 -1.58160132\n",
      "  -0.32315478 -0.69921001  1.22748297  0.23749438 -1.58160132  0.23749438\n",
      "  -0.03331166 -0.49069632 -0.81111385 -1.58160132 -1.27705394  1.22748297\n",
      "  -0.10329743 -1.33116957  0.91726555  0.59407783  0.91726555  0.5606821\n",
      "   0.20691998  0.27123572  0.5606821  -0.02469954 -0.70343447 -1.58160132\n",
      "   1.1676973   0.95841088 -0.37284836 -0.19233647  0.21712009  0.68306018\n",
      "   0.18462128  1.53203035  0.20077111  1.22748297  0.18537621  1.53203035\n",
      "  -0.01293737 -0.32647673  0.5606821  -0.03331166  1.31646531  1.69342306\n",
      "  -0.07846957  0.02322857 -0.70620467  1.2613064   0.21712009 -1.40405878\n",
      "   0.59407783  1.47224468 -0.40165729  0.5606821   0.89862521  1.22748297\n",
      "   0.40165729  0.20691998  1.1550726  -0.07279954  0.79073955  1.41702908\n",
      "   0.62790127 -0.40784481  1.1676973  -0.40784481  1.31646531 -0.95663642\n",
      "   0.4544483   0.90429525  0.29848817  0.89862521  0.50089643  1.1676973\n",
      "  -0.86522948  0.21712009 -0.35372918  0.85052522  1.22748297 -0.01293737\n",
      "   0.38747052  1.56689706  1.99797044  0.54030781  0.44691059  0.80958618\n",
      "   1.1676973  -1.22493577  1.22748297 -0.27513129  0.84485519  1.40550435\n",
      "  -0.38301695  0.48217959  0.07292214  0.86522948  0.5606821   0.5273375\n",
      "   1.22748297 -1.27705394 -0.40165729 -0.07846957  1.53203035  0.80958618\n",
      "   0.90429525  0.85052522 -0.12406847 -1.58160132  1.53203035  0.36264266\n",
      "   0.98760756  1.38320565  0.91726555 -0.24749538  1.42269911  1.31646531\n",
      "  -1.00798185  0.11221091  1.1550726   1.93818477  0.84485519  1.22748297\n",
      "   1.11413356  1.10095697  1.22181293 -0.36264266  0.5606821   0.58145314\n",
      "  -0.57967867  0.64819347  0.16432908  1.22748297  1.53203035  0.27366031\n",
      "  -0.63171474  0.91726555 -0.65827656  0.05809528 -0.65827656 -0.77909388\n",
      "   0.5606821   1.36456531 -1.24647954 -0.24026458 -0.65208904 -0.40165729\n",
      "   0.5606821  -1.40405878  1.11413356  1.36456531 -0.40784481  0.90429525\n",
      "   0.83188488  0.6538635   0.58145314  0.64654161 -0.01902951  1.69342306\n",
      "  -1.33116957  0.34364609  1.31646531  0.02322857 -0.0976274   1.1198036\n",
      "   0.21712009  1.22181293 -0.27513129  0.81111385  1.53203035 -0.07846957\n",
      "  -0.65208904  0.44124055  0.5606821   0.36264266  1.1550726   0.07292214\n",
      "  -0.03331166  0.89862521  0.84485519  1.20884263  1.53203035  0.5606821\n",
      "  -0.63790227  1.1676973   0.84485519 -0.39598725  0.9932776  -0.35372918\n",
      "   0.64819347  1.22748297  1.53203035 -0.65827656  0.5606821  -1.02662219\n",
      "   0.93811868 -0.39598725 -1.58160132  0.5606821   0.52166747  0.79073955\n",
      "  -0.32647673  1.22748297  1.1676973   0.27123572 -0.07424511 -1.33116957\n",
      "   0.91726555  0.54891992  0.6538635   0.59407783 -1.58160132 -0.40165729\n",
      "  -0.65208904 -0.02469954  1.53203035 -0.40784481  0.54030781  0.21712009\n",
      "  -0.95663642 -0.49069632 -0.01902951  1.1198036  -0.65827656  1.53203035\n",
      "   0.20691998  0.49937436  1.13595343 -0.01293737 -0.29542349  0.84485519\n",
      "   0.83188488  0.34364609  0.54030781  0.95675902  0.90429525  0.83188488\n",
      "  -0.65208904 -0.40165729 -1.58160132  0.38313956 -0.32924692  0.69768794\n",
      "   1.47224468  1.22748297  0.83188488  1.42269911 -0.65827656 -0.35372918\n",
      "  -0.01293737  1.53203035  0.95841088 -1.04249592  0.23749438  0.5606821\n",
      "   1.20719077  0.91726555 -0.10329743 -0.57967867  0.27123572  1.69342306\n",
      "   0.05809528 -0.65208904 -1.02662219  0.27123572  0.5606821 ]]\n"
     ]
    }
   ],
   "source": [
    "# 马疝病数据集\n",
    "# 训练集合\n",
    "datArr, labelArr = loadDataSet(\"horseColicTraining2.txt\")\n",
    "weakClassArr, aggClassEst = adaBoostTrainDS(datArr, labelArr, 10)\n",
    "print (weakClassArr, '\\n-----\\n', aggClassEst.T)"
   ]
  },
  {
   "cell_type": "code",
   "execution_count": 89,
   "metadata": {},
   "outputs": [
    {
     "name": "stdout",
     "output_type": "stream",
     "text": [
      "[[ 0.69314718]\n",
      " [ 0.69314718]\n",
      " [-0.69314718]\n",
      " [-0.69314718]\n",
      " [ 0.69314718]\n",
      " [-0.69314718]\n",
      " [ 0.69314718]\n",
      " [ 0.69314718]\n",
      " [ 0.69314718]\n",
      " [ 0.69314718]\n",
      " [ 0.69314718]\n",
      " [-0.69314718]\n",
      " [-0.69314718]\n",
      " [ 0.69314718]\n",
      " [ 0.69314718]\n",
      " [-0.69314718]\n",
      " [ 0.69314718]\n",
      " [-0.69314718]\n",
      " [ 0.69314718]\n",
      " [-0.69314718]\n",
      " [-0.69314718]\n",
      " [ 0.69314718]\n",
      " [-0.69314718]\n",
      " [-0.69314718]\n",
      " [ 0.69314718]\n",
      " [ 0.69314718]\n",
      " [ 0.69314718]\n",
      " [-0.69314718]\n",
      " [ 0.69314718]\n",
      " [-0.69314718]\n",
      " [ 0.69314718]\n",
      " [-0.69314718]\n",
      " [-0.69314718]\n",
      " [ 0.69314718]\n",
      " [-0.69314718]\n",
      " [-0.69314718]\n",
      " [-0.69314718]\n",
      " [ 0.69314718]\n",
      " [ 0.69314718]\n",
      " [ 0.69314718]\n",
      " [ 0.69314718]\n",
      " [-0.69314718]\n",
      " [-0.69314718]\n",
      " [ 0.69314718]\n",
      " [-0.69314718]\n",
      " [ 0.69314718]\n",
      " [-0.69314718]\n",
      " [-0.69314718]\n",
      " [-0.69314718]\n",
      " [-0.69314718]\n",
      " [-0.69314718]\n",
      " [ 0.69314718]\n",
      " [-0.69314718]\n",
      " [-0.69314718]\n",
      " [ 0.69314718]\n",
      " [ 0.69314718]\n",
      " [-0.69314718]\n",
      " [-0.69314718]\n",
      " [-0.69314718]\n",
      " [-0.69314718]\n",
      " [ 0.69314718]\n",
      " [-0.69314718]\n",
      " [ 0.69314718]\n",
      " [ 0.69314718]\n",
      " [-0.69314718]\n",
      " [ 0.69314718]\n",
      " [ 0.69314718]]\n",
      "[[-0.27980789]\n",
      " [-0.27980789]\n",
      " [-1.66610226]\n",
      " [-1.66610226]\n",
      " [-0.27980789]\n",
      " [-1.66610226]\n",
      " [-0.27980789]\n",
      " [-0.27980789]\n",
      " [-0.27980789]\n",
      " [-0.27980789]\n",
      " [-0.27980789]\n",
      " [-1.66610226]\n",
      " [-1.66610226]\n",
      " [-0.27980789]\n",
      " [ 1.66610226]\n",
      " [-1.66610226]\n",
      " [-0.27980789]\n",
      " [-1.66610226]\n",
      " [ 1.66610226]\n",
      " [-1.66610226]\n",
      " [-1.66610226]\n",
      " [-0.27980789]\n",
      " [-1.66610226]\n",
      " [-1.66610226]\n",
      " [-0.27980789]\n",
      " [-0.27980789]\n",
      " [-0.27980789]\n",
      " [-1.66610226]\n",
      " [-0.27980789]\n",
      " [-1.66610226]\n",
      " [-0.27980789]\n",
      " [-1.66610226]\n",
      " [-1.66610226]\n",
      " [-0.27980789]\n",
      " [-1.66610226]\n",
      " [-1.66610226]\n",
      " [-1.66610226]\n",
      " [-0.27980789]\n",
      " [-0.27980789]\n",
      " [-0.27980789]\n",
      " [-0.27980789]\n",
      " [-1.66610226]\n",
      " [-1.66610226]\n",
      " [-0.27980789]\n",
      " [-1.66610226]\n",
      " [-0.27980789]\n",
      " [-1.66610226]\n",
      " [-1.66610226]\n",
      " [-1.66610226]\n",
      " [-1.66610226]\n",
      " [ 0.27980789]\n",
      " [-0.27980789]\n",
      " [-1.66610226]\n",
      " [-1.66610226]\n",
      " [-0.27980789]\n",
      " [-0.27980789]\n",
      " [-1.66610226]\n",
      " [-1.66610226]\n",
      " [-1.66610226]\n",
      " [-1.66610226]\n",
      " [-0.27980789]\n",
      " [ 0.27980789]\n",
      " [-0.27980789]\n",
      " [-0.27980789]\n",
      " [-1.66610226]\n",
      " [-0.27980789]\n",
      " [-0.27980789]]\n"
     ]
    },
    {
     "data": {
      "text/plain": [
       "49.0"
      ]
     },
     "execution_count": 89,
     "metadata": {},
     "output_type": "execute_result"
    }
   ],
   "source": [
    "# 测试集合\n",
    "testArr, testLabelArr = loadDataSet('horseColicTest2.txt')\n",
    "prediction10 = adaClassify(testArr, classifierArray)\n",
    "m = shape(dataArrTest)[0]\n",
    "errArr = mat(ones((m, 1)))\n",
    "errArr[prediction10 != mat(testLabelArr).T].sum()"
   ]
  },
  {
   "cell_type": "markdown",
   "metadata": {},
   "source": [
    "# 正确率，召回率，ROC曲线 "
   ]
  },
  {
   "cell_type": "code",
   "execution_count": 90,
   "metadata": {
    "collapsed": true
   },
   "outputs": [],
   "source": [
    "def plotROC(predStrengths, classLabels):\n",
    "    \"\"\"plotROC(打印ROC曲线，并计算AUC的面积大小)\n",
    "\n",
    "    Args:\n",
    "        predStrengths  最终预测结果的权重值\n",
    "        classLabels    原始数据的分类结果集\n",
    "    \"\"\"\n",
    "    # print 'predStrengths=', predStrengths\n",
    "    # print 'classLabels=', classLabels\n",
    "\n",
    "    import matplotlib.pyplot as plt\n",
    "    # variable to calculate AUC\n",
    "    ySum = 0.0\n",
    "    # 对正样本的进行求和\n",
    "    numPosClas = sum(array(classLabels)==1.0)\n",
    "    # 正样本的概率\n",
    "    yStep = 1/float(numPosClas)\n",
    "    # 负样本的概率\n",
    "    xStep = 1/float(len(classLabels)-numPosClas)\n",
    "    # argsort函数返回的是数组值从小到大的索引值\n",
    "    # get sorted index, it's reverse\n",
    "    sortedIndicies = predStrengths.argsort()\n",
    "    # 测试结果是否是从小到大排列\n",
    "    # print 'sortedIndicies=', sortedIndicies, predStrengths[0, 176], predStrengths.min(), predStrengths[0, 293], predStrengths.max()\n",
    "\n",
    "    # 开始创建模版对象\n",
    "    fig = plt.figure()\n",
    "    fig.clf()\n",
    "    ax = plt.subplot(111)\n",
    "    # cursor光标值\n",
    "    cur = (1.0, 1.0)\n",
    "    # loop through all the values, drawing a line segment at each point\n",
    "    for index in sortedIndicies.tolist()[0]:\n",
    "        if classLabels[index] == 1.0:\n",
    "            delX = 0\n",
    "            delY = yStep\n",
    "        else:\n",
    "            delX = xStep\n",
    "            delY = 0\n",
    "            ySum += cur[1]\n",
    "        # draw line from cur to (cur[0]-delX, cur[1]-delY)\n",
    "        # 画点连线 (x1, x2, y1, y2)\n",
    "        # print cur[0], cur[0]-delX, cur[1], cur[1]-delY\n",
    "        ax.plot([cur[0], cur[0]-delX], [cur[1], cur[1]-delY], c='b')\n",
    "        cur = (cur[0]-delX, cur[1]-delY)\n",
    "    # 画对角的虚线线\n",
    "    ax.plot([0, 1], [0, 1], 'b--')\n",
    "    plt.xlabel('False positive rate')\n",
    "    plt.ylabel('True positive rate')\n",
    "    plt.title('ROC curve for AdaBoost horse colic detection system')\n",
    "    # 设置画图的范围区间 (x1, x2, y1, y2)\n",
    "    ax.axis([0, 1, 0, 1])\n",
    "    plt.show()\n",
    "    '''\n",
    "    参考说明：http://blog.csdn.net/wenyusuran/article/details/39056013\n",
    "    为了计算 AUC ，我们需要对多个小矩形的面积进行累加。\n",
    "    这些小矩形的宽度是xStep，因此可以先对所有矩形的高度进行累加，最后再乘以xStep得到其总面积。\n",
    "    所有高度的和(ySum)随着x轴的每次移动而渐次增加。\n",
    "    '''\n",
    "    print (\"the Area Under the Curve is: \", ySum*xStep)"
   ]
  },
  {
   "cell_type": "code",
   "execution_count": 92,
   "metadata": {},
   "outputs": [
    {
     "data": {
      "image/png": "[encoded data removed]",
      "text/plain": [
       "<matplotlib.figure.Figure at 0x114b4c7b8>"
      ]
     },
     "metadata": {},
     "output_type": "display_data"
    },
    {
     "name": "stdout",
     "output_type": "stream",
     "text": [
      "the Area Under the Curve is:  0.8582969635063604\n"
     ]
    }
   ],
   "source": [
    "plotROC(aggClassEst.T, labelArr)"
   ]
  },
  {
   "cell_type": "code",
   "execution_count": null,
   "metadata": {
    "collapsed": true
   },
   "outputs": [],
   "source": []
  }
 ],
 "metadata": {
  "kernelspec": {
   "display_name": "Python 3",
   "language": "python",
   "name": "python3"
  },
  "language_info": {
   "codemirror_mode": {
    "name": "ipython",
    "version": 3
   },
   "file_extension": ".py",
   "mimetype": "text/x-python",
   "name": "python",
   "nbconvert_exporter": "python",
   "pygments_lexer": "ipython3",
   "version": "3.6.1"
  }
 },
 "nbformat": 4,
 "nbformat_minor": 2
}
