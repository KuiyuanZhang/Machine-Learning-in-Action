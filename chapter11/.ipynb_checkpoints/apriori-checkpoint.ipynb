{
 "cells": [
  {
   "cell_type": "code",
   "execution_count": 105,
   "metadata": {
    "collapsed": true
   },
   "outputs": [],
   "source": [
    "from numpy import *"
   ]
  },
  {
   "cell_type": "markdown",
   "metadata": {},
   "source": [
    "# 使用Apriori算法来发现频繁项集"
   ]
  },
  {
   "cell_type": "markdown",
   "metadata": {},
   "source": [
    "### 1. 生成候选项集"
   ]
  },
  {
   "cell_type": "code",
   "execution_count": 117,
   "metadata": {
    "collapsed": true
   },
   "outputs": [],
   "source": [
    "# 加载数据集\n",
    "def loadDataSet():\n",
    "    return [[1, 3, 4], [2, 3, 5], [1, 2, 3, 5], [2, 5]]"
   ]
  },
  {
   "cell_type": "code",
   "execution_count": 118,
   "metadata": {
    "collapsed": true
   },
   "outputs": [],
   "source": [
    "# 创建集合 C1。即对 dataSet 进行去重，排序，放入 list 中，然后转换所有的元素为 frozenset\n",
    "def createC1(dataSet):\n",
    "    \"\"\"createC1（创建集合 C1）\n",
    "\n",
    "    Args:\n",
    "        dataSet 原始数据集\n",
    "    Returns:\n",
    "        frozenset 返回一个 frozenset 格式的 list\n",
    "    \"\"\"\n",
    "\n",
    "    C1 = []\n",
    "    for transaction in dataSet:\n",
    "        for item in transaction:\n",
    "            if not [item] in C1:\n",
    "                # 遍历所有的元素，如果不在 C1 出现过，那么就 append\n",
    "                C1.append([item])\n",
    "    # 对数组进行 `从小到大` 的排序\n",
    "    # print 'sort 前=', C1\n",
    "    C1.sort()\n",
    "    # frozenset 表示冻结的 set 集合，元素无改变；可以把它当字典的 key 来使用\n",
    "    # print 'sort 后=', C1\n",
    "    # print 'frozenset=', map(frozenset, C1)\n",
    "    return list(map(frozenset, C1))"
   ]
  },
  {
   "cell_type": "code",
   "execution_count": 119,
   "metadata": {
    "collapsed": true
   },
   "outputs": [],
   "source": [
    "# 计算候选数据集 CK 在数据集 D 中的支持度，并返回支持度大于最小支持度（minSupport）的数据\n",
    "def scanD(D, Ck, minSupport):\n",
    "    \"\"\"scanD（计算候选数据集 CK 在数据集 D 中的支持度，并返回支持度大于最小支持度 minSupport 的数据）\n",
    "\n",
    "    Args:\n",
    "        D 数据集\n",
    "        Ck 候选项集列表\n",
    "        minSupport 最小支持度\n",
    "    Returns:\n",
    "        retList 支持度大于 minSupport 的集合\n",
    "        supportData 候选项集支持度数据\n",
    "    \"\"\"\n",
    "\n",
    "    # ssCnt 临时存放选数据集 Ck 的频率. 例如: a->10, b->5, c->8\n",
    "    ssCnt = {}\n",
    "    for tid in D:\n",
    "        for can in Ck:\n",
    "            # s.issubset(t)  测试是否 s 中的每一个元素都在 t 中\n",
    "            if can.issubset(tid):\n",
    "                if can not in  ssCnt:\n",
    "                    ssCnt[can] = 1\n",
    "                else:\n",
    "                    ssCnt[can] += 1\n",
    "    numItems = float(len(D)) # 数据集 D 的数量\n",
    "    retList = []\n",
    "    supportData = {}\n",
    "    for key in ssCnt:\n",
    "        # 支持度 = 候选项（key）出现的次数 / 所有数据集的数量\n",
    "        support = ssCnt[key]/numItems\n",
    "        if support >= minSupport:\n",
    "            # 在 retList 的首位插入元素，只存储支持度满足频繁项集的值\n",
    "            retList.insert(0, key)\n",
    "        # 存储所有的候选项（ke）和对应的支持度（support）\n",
    "        supportData[key] = support\n",
    "    return retList, supportData"
   ]
  },
  {
   "cell_type": "code",
   "execution_count": 120,
   "metadata": {},
   "outputs": [
    {
     "data": {
      "text/plain": [
       "[[1, 3, 4], [2, 3, 5], [1, 2, 3, 5], [2, 5]]"
      ]
     },
     "execution_count": 120,
     "metadata": {},
     "output_type": "execute_result"
    }
   ],
   "source": [
    "dataSet = loadDataSet()\n",
    "dataSet"
   ]
  },
  {
   "cell_type": "code",
   "execution_count": 121,
   "metadata": {},
   "outputs": [
    {
     "data": {
      "text/plain": [
       "[frozenset({1}),\n",
       " frozenset({2}),\n",
       " frozenset({3}),\n",
       " frozenset({4}),\n",
       " frozenset({5})]"
      ]
     },
     "execution_count": 121,
     "metadata": {},
     "output_type": "execute_result"
    }
   ],
   "source": [
    "C1 = createC1(dataSet)\n",
    "C1"
   ]
  },
  {
   "cell_type": "code",
   "execution_count": 122,
   "metadata": {},
   "outputs": [
    {
     "data": {
      "text/plain": [
       "[{1, 3, 4}, {2, 3, 5}, {1, 2, 3, 5}, {2, 5}]"
      ]
     },
     "execution_count": 122,
     "metadata": {},
     "output_type": "execute_result"
    }
   ],
   "source": [
    "D = list(map(set,dataSet))\n",
    "D"
   ]
  },
  {
   "cell_type": "code",
   "execution_count": 123,
   "metadata": {},
   "outputs": [
    {
     "data": {
      "text/plain": [
       "[frozenset({5}), frozenset({2}), frozenset({3}), frozenset({1})]"
      ]
     },
     "execution_count": 123,
     "metadata": {},
     "output_type": "execute_result"
    }
   ],
   "source": [
    "L1, suppData0 = scanD(D, C1, 0.5)\n",
    "L1"
   ]
  },
  {
   "cell_type": "code",
   "execution_count": 124,
   "metadata": {},
   "outputs": [
    {
     "data": {
      "text/plain": [
       "([[frozenset({5}), frozenset({2}), frozenset({3}), frozenset({1})],\n",
       "  [frozenset({2, 3}), frozenset({3, 5}), frozenset({2, 5}), frozenset({1, 3})],\n",
       "  [frozenset({2, 3, 5})]],\n",
       " {frozenset({1}): 0.5,\n",
       "  frozenset({3}): 0.75,\n",
       "  frozenset({4}): 0.25,\n",
       "  frozenset({2}): 0.75,\n",
       "  frozenset({5}): 0.75,\n",
       "  frozenset({1, 3}): 0.5,\n",
       "  frozenset({2, 5}): 0.75,\n",
       "  frozenset({3, 5}): 0.5,\n",
       "  frozenset({2, 3}): 0.5,\n",
       "  frozenset({1, 5}): 0.25,\n",
       "  frozenset({1, 2}): 0.25,\n",
       "  frozenset({2, 3, 5}): 0.5})"
      ]
     },
     "execution_count": 124,
     "metadata": {},
     "output_type": "execute_result"
    }
   ],
   "source": [
    "dataSet = loadDataSet()\n",
    "apriori(dataSet)"
   ]
  },
  {
   "cell_type": "markdown",
   "metadata": {},
   "source": [
    "### 2. 组织完整的Apriori算法"
   ]
  },
  {
   "cell_type": "code",
   "execution_count": 125,
   "metadata": {
    "collapsed": true
   },
   "outputs": [],
   "source": [
    "# 输入频繁项集列表 Lk 与返回的元素个数 k，然后输出所有可能的候选项集 Ck\n",
    "def aprioriGen(Lk, k):\n",
    "    \"\"\"aprioriGen（输入频繁项集列表 Lk 与返回的元素个数 k，然后输出候选项集 Ck。\n",
    "       例如: 以 {0},{1},{2} 为输入且 k = 2 则输出 {0,1}, {0,2}, {1,2}. 以 {0,1},{0,2},{1,2} 为输入且 k = 3 则输出 {0,1,2}\n",
    "       仅需要计算一次，不需要将所有的结果计算出来，然后进行去重操作\n",
    "       这是一个更高效的算法）\n",
    "\n",
    "    Args:\n",
    "        Lk 频繁项集列表\n",
    "        k 返回的项集元素个数（若元素的前 k-2 相同，就进行合并）\n",
    "    Returns:\n",
    "        retList 元素两两合并的数据集\n",
    "    \"\"\"\n",
    "    \n",
    "    retList = []\n",
    "    lenLk = len(Lk)\n",
    "    for i in range(lenLk):\n",
    "        for j in range(i+1, lenLk):\n",
    "            L1 = list(Lk[i])[: k-2]\n",
    "            L2 = list(Lk[j])[: k-2]\n",
    "            # print '-----i=', i, k-2, Lk, Lk[i], list(Lk[i])[: k-2]\n",
    "            # print '-----j=', j, k-2, Lk, Lk[j], list(Lk[j])[: k-2]\n",
    "            L1.sort()\n",
    "            L2.sort()\n",
    "            # 第一次 L1,L2 为空，元素直接进行合并，返回元素两两合并的数据集\n",
    "            # if first k-2 elements are equal\n",
    "            if L1 == L2:\n",
    "                # set union\n",
    "                # print 'union=', Lk[i] | Lk[j], Lk[i], Lk[j]\n",
    "                retList.append(Lk[i] | Lk[j])\n",
    "    return retList"
   ]
  },
  {
   "cell_type": "code",
   "execution_count": 126,
   "metadata": {
    "collapsed": true
   },
   "outputs": [],
   "source": [
    "# 找出数据集 dataSet 中支持度 >= 最小支持度的候选项集以及它们的支持度。即我们的频繁项集。\n",
    "def apriori(dataSet, minSupport=0.5):\n",
    "    \"\"\"apriori（首先构建集合 C1，然后扫描数据集来判断这些只有一个元素的项集是否满足最小支持度的要求。那么满足最小支持度要求的项集构成集合 L1。然后 L1 中的元素相互组合成 C2，C2 再进一步过滤变成 L2，然后以此类推，知道 CN 的长度为 0 时结束，即可找出所有频繁项集的支持度。）\n",
    "\n",
    "    Args:\n",
    "        dataSet 原始数据集\n",
    "        minSupport 支持度的阈值\n",
    "    Returns:\n",
    "        L 频繁项集的全集\n",
    "        supportData 所有元素和支持度的全集\n",
    "    \"\"\"\n",
    "    # C1 即对 dataSet 进行去重，排序，放入 list 中，然后转换所有的元素为 frozenset\n",
    "    C1 = createC1(dataSet)\n",
    "    # print 'C1: ', C1\n",
    "    # 对每一行进行 set 转换，然后存放到集合中\n",
    "    D = list(map(set, dataSet))\n",
    "    # print 'D=', D\n",
    "    # 计算候选数据集 C1 在数据集 D 中的支持度，并返回支持度大于 minSupport 的数据\n",
    "    L1, supportData = scanD(D, C1, minSupport)\n",
    "    # print \"L1=\", L1, \"\\n\", \"outcome: \", supportData\n",
    "\n",
    "    # L 加了一层 list, L 一共 2 层 list\n",
    "    L = [L1]\n",
    "    k = 2\n",
    "    # 判断 L 的第 k-2 项的数据长度是否 > 0。第一次执行时 L 为 [[frozenset([1]), frozenset([3]), frozenset([2]), frozenset([5])]]。L[k-2]=L[0]=[frozenset([1]), frozenset([3]), frozenset([2]), frozenset([5])]，最后面 k += 1\n",
    "    while (len(L[k-2]) > 0):\n",
    "        # print 'k=', k, L, L[k-2]\n",
    "        Ck = aprioriGen(L[k-2], k) # 例如: 以 {0},{1},{2} 为输入且 k = 2 则输出 {0,1}, {0,2}, {1,2}. 以 {0,1},{0,2},{1,2} 为输入且 k = 3 则输出 {0,1,2}\n",
    "        # print 'Ck', Ck\n",
    "\n",
    "        Lk, supK = scanD(D, Ck, minSupport) # 计算候选数据集 CK 在数据集 D 中的支持度，并返回支持度大于 minSupport 的数据\n",
    "        # 保存所有候选项集的支持度，如果字典没有，就追加元素，如果有，就更新元素\n",
    "        supportData.update(supK)\n",
    "        if len(Lk) == 0:\n",
    "            break\n",
    "        # Lk 表示满足频繁子项的集合，L 元素在增加，例如: \n",
    "        # l=[[set(1), set(2), set(3)]]\n",
    "        # l=[[set(1), set(2), set(3)], [set(1, 2), set(2, 3)]]\n",
    "        L.append(Lk)\n",
    "        k += 1\n",
    "        # print 'k=', k, len(L[k-2])\n",
    "    return L, supportData"
   ]
  },
  {
   "cell_type": "code",
   "execution_count": 127,
   "metadata": {},
   "outputs": [
    {
     "data": {
      "text/plain": [
       "[[frozenset({5}), frozenset({2}), frozenset({3}), frozenset({1})],\n",
       " [frozenset({2, 3}), frozenset({3, 5}), frozenset({2, 5}), frozenset({1, 3})],\n",
       " [frozenset({2, 3, 5})]]"
      ]
     },
     "execution_count": 127,
     "metadata": {},
     "output_type": "execute_result"
    }
   ],
   "source": [
    "L, suppData = apriori(dataSet)\n",
    "L"
   ]
  },
  {
   "cell_type": "code",
   "execution_count": 128,
   "metadata": {},
   "outputs": [
    {
     "data": {
      "text/plain": [
       "[frozenset({5}), frozenset({2}), frozenset({3}), frozenset({1})]"
      ]
     },
     "execution_count": 128,
     "metadata": {},
     "output_type": "execute_result"
    }
   ],
   "source": [
    "L[0]"
   ]
  },
  {
   "cell_type": "code",
   "execution_count": 129,
   "metadata": {},
   "outputs": [
    {
     "data": {
      "text/plain": [
       "[frozenset({2, 5}),\n",
       " frozenset({3, 5}),\n",
       " frozenset({1, 5}),\n",
       " frozenset({2, 3}),\n",
       " frozenset({1, 2}),\n",
       " frozenset({1, 3})]"
      ]
     },
     "execution_count": 129,
     "metadata": {},
     "output_type": "execute_result"
    }
   ],
   "source": [
    "aprioriGen(L[0], 2)"
   ]
  },
  {
   "cell_type": "code",
   "execution_count": 131,
   "metadata": {},
   "outputs": [
    {
     "data": {
      "text/plain": [
       "[[frozenset({5}), frozenset({2}), frozenset({3})], [frozenset({2, 5})]]"
      ]
     },
     "execution_count": 131,
     "metadata": {},
     "output_type": "execute_result"
    }
   ],
   "source": [
    "L,suppData = apriori(dataSet, minSupport=0.7)\n",
    "L"
   ]
  },
  {
   "cell_type": "markdown",
   "metadata": {},
   "source": [
    "# 从频繁项集中挖掘关联规则"
   ]
  },
  {
   "cell_type": "code",
   "execution_count": 132,
   "metadata": {
    "collapsed": true
   },
   "outputs": [],
   "source": [
    "# 生成关联规则\n",
    "def generateRules(L, supportData, minConf=0.7):\n",
    "    \"\"\"generateRules\n",
    "\n",
    "    Args:\n",
    "        L 频繁项集列表\n",
    "        supportData 频繁项集支持度的字典\n",
    "        minConf 最小置信度\n",
    "    Returns:\n",
    "        bigRuleList 可信度规则列表（关于 (A->B+置信度) 3个字段的组合）\n",
    "    \"\"\"\n",
    "    bigRuleList = []\n",
    "    # 假设 L = [[frozenset([1]), frozenset([3]), frozenset([2]), frozenset([5])], [frozenset([1, 3]), frozenset([2, 5]), frozenset([2, 3]), frozenset([3, 5])], [frozenset([2, 3, 5])]]\n",
    "    for i in range(1, len(L)):\n",
    "        # 获取频繁项集中每个组合的所有元素\n",
    "        for freqSet in L[i]:\n",
    "            # 假设：freqSet= frozenset([1, 3]), H1=[frozenset([1]), frozenset([3])]\n",
    "            # 组合总的元素并遍历子元素，并转化为 frozenset 集合，再存放到 list 列表中\n",
    "            H1 = [frozenset([item]) for item in freqSet]\n",
    "            # 2 个的组合，走 else, 2 个以上的组合，走 if\n",
    "            if (i > 1):\n",
    "                rulesFromConseq(freqSet, H1, supportData, bigRuleList, minConf)\n",
    "            else:\n",
    "                calcConf(freqSet, H1, supportData, bigRuleList, minConf)\n",
    "    return bigRuleList"
   ]
  },
  {
   "cell_type": "code",
   "execution_count": 133,
   "metadata": {},
   "outputs": [],
   "source": [
    "# 计算可信度（confidence）\n",
    "def calcConf(freqSet, H, supportData, brl, minConf=0.7):\n",
    "    \"\"\"calcConf（对两个元素的频繁项，计算可信度，例如： {1,2}/{1} 或者 {1,2}/{2} 看是否满足条件）\n",
    "\n",
    "    Args:\n",
    "        freqSet 频繁项集中的元素，例如: frozenset([1, 3])    \n",
    "        H 频繁项集中的元素的集合，例如: [frozenset([1]), frozenset([3])]\n",
    "        supportData 所有元素的支持度的字典\n",
    "        brl 关联规则列表的空数组\n",
    "        minConf 最小可信度\n",
    "    Returns:\n",
    "        prunedH 记录 可信度大于阈值的集合\n",
    "    \"\"\"\n",
    "    # 记录可信度大于最小可信度（minConf）的集合\n",
    "    prunedH = []\n",
    "    for conseq in H: # 假设 freqSet = frozenset([1, 3]), H = [frozenset([1]), frozenset([3])]，那么现在需要求出 frozenset([1]) -> frozenset([3]) 的可信度和 frozenset([3]) -> frozenset([1]) 的可信度\n",
    "\n",
    "        # print 'confData=', freqSet, H, conseq, freqSet-conseq\n",
    "        conf = supportData[freqSet]/supportData[freqSet-conseq] # 支持度定义: a -> b = support(a | b) / support(a). 假设  freqSet = frozenset([1, 3]), conseq = [frozenset([1])]，那么 frozenset([1]) 至 frozenset([3]) 的可信度为 = support(a | b) / support(a) = supportData[freqSet]/supportData[freqSet-conseq] = supportData[frozenset([1, 3])] / supportData[frozenset([1])]\n",
    "        if conf >= minConf:\n",
    "            # 只要买了 freqSet-conseq 集合，一定会买 conseq 集合（freqSet-conseq 集合和 conseq集合 是全集）\n",
    "            print (freqSet-conseq, '-->', conseq, 'conf:', conf)\n",
    "            brl.append((freqSet-conseq, conseq, conf))\n",
    "            prunedH.append(conseq)\n",
    "    return prunedH"
   ]
  },
  {
   "cell_type": "code",
   "execution_count": 134,
   "metadata": {},
   "outputs": [],
   "source": [
    "# 递归计算频繁项集的规则\n",
    "def rulesFromConseq(freqSet, H, supportData, brl, minConf=0.7):\n",
    "    \"\"\"rulesFromConseq\n",
    "\n",
    "    Args:\n",
    "        freqSet 频繁项集中的元素，例如: frozenset([2, 3, 5])    \n",
    "        H 频繁项集中的元素的集合，例如: [frozenset([2]), frozenset([3]), frozenset([5])]\n",
    "        supportData 所有元素的支持度的字典\n",
    "        brl 关联规则列表的数组\n",
    "        minConf 最小可信度\n",
    "    \"\"\"\n",
    "    # H[0] 是 freqSet 的元素组合的第一个元素，并且 H 中所有元素的长度都一样，长度由 aprioriGen(H, m+1) 这里的 m + 1 来控制\n",
    "    # 该函数递归时，H[0] 的长度从 1 开始增长 1 2 3 ...\n",
    "    # 假设 freqSet = frozenset([2, 3, 5]), H = [frozenset([2]), frozenset([3]), frozenset([5])]\n",
    "    # 那么 m = len(H[0]) 的递归的值依次为 1 2\n",
    "    # 在 m = 2 时, 跳出该递归。假设再递归一次，那么 H[0] = frozenset([2, 3, 5])，freqSet = frozenset([2, 3, 5]) ，没必要再计算 freqSet 与 H[0] 的关联规则了。\n",
    "    m = len(H[0])\n",
    "    if (len(freqSet) > (m + 1)):\n",
    "        # print 'freqSet******************', len(freqSet), m + 1, freqSet, H, H[0]\n",
    "        # 生成 m+1 个长度的所有可能的 H 中的组合，假设 H = [frozenset([2]), frozenset([3]), frozenset([5])]\n",
    "        # 第一次递归调用时生成 [frozenset([2, 3]), frozenset([2, 5]), frozenset([3, 5])]\n",
    "        # 第二次 。。。没有第二次，递归条件判断时已经退出了\n",
    "        Hmp1 = aprioriGen(H, m+1)\n",
    "        # 返回可信度大于最小可信度的集合\n",
    "        Hmp1 = calcConf(freqSet, Hmp1, supportData, brl, minConf)\n",
    "        print ('Hmp1=', Hmp1)\n",
    "        print ('len(Hmp1)=', len(Hmp1), 'len(freqSet)=', len(freqSet))\n",
    "        # 计算可信度后，还有数据大于最小可信度的话，那么继续递归调用，否则跳出递归\n",
    "        if (len(Hmp1) > 1):\n",
    "            # print '----------------------', Hmp1\n",
    "            # print len(freqSet),  len(Hmp1[0]) + 1\n",
    "            rulesFromConseq(freqSet, Hmp1, supportData, brl, minConf)"
   ]
  },
  {
   "cell_type": "code",
   "execution_count": 135,
   "metadata": {},
   "outputs": [
    {
     "name": "stdout",
     "output_type": "stream",
     "text": [
      "frozenset({5}) --> frozenset({2}) conf: 1.0\n",
      "frozenset({2}) --> frozenset({5}) conf: 1.0\n",
      "frozenset({1}) --> frozenset({3}) conf: 1.0\n",
      "Hmp1= []\n",
      "len(Hmp1)= 0 len(freqSet)= 3\n"
     ]
    },
    {
     "data": {
      "text/plain": [
       "[(frozenset({5}), frozenset({2}), 1.0),\n",
       " (frozenset({2}), frozenset({5}), 1.0),\n",
       " (frozenset({1}), frozenset({3}), 1.0)]"
      ]
     },
     "execution_count": 135,
     "metadata": {},
     "output_type": "execute_result"
    }
   ],
   "source": [
    "L,suppData = apriori(dataSet, minSupport=0.5)\n",
    "rules = generateRules(L, suppData, minConf=0.7)\n",
    "rules"
   ]
  },
  {
   "cell_type": "code",
   "execution_count": 136,
   "metadata": {},
   "outputs": [
    {
     "name": "stdout",
     "output_type": "stream",
     "text": [
      "frozenset({3}) --> frozenset({2}) conf: 0.6666666666666666\n",
      "frozenset({2}) --> frozenset({3}) conf: 0.6666666666666666\n",
      "frozenset({5}) --> frozenset({3}) conf: 0.6666666666666666\n",
      "frozenset({3}) --> frozenset({5}) conf: 0.6666666666666666\n",
      "frozenset({5}) --> frozenset({2}) conf: 1.0\n",
      "frozenset({2}) --> frozenset({5}) conf: 1.0\n",
      "frozenset({3}) --> frozenset({1}) conf: 0.6666666666666666\n",
      "frozenset({1}) --> frozenset({3}) conf: 1.0\n",
      "frozenset({5}) --> frozenset({2, 3}) conf: 0.6666666666666666\n",
      "frozenset({3}) --> frozenset({2, 5}) conf: 0.6666666666666666\n",
      "frozenset({2}) --> frozenset({3, 5}) conf: 0.6666666666666666\n",
      "Hmp1= [frozenset({2, 3}), frozenset({2, 5}), frozenset({3, 5})]\n",
      "len(Hmp1)= 3 len(freqSet)= 3\n"
     ]
    },
    {
     "data": {
      "text/plain": [
       "[(frozenset({3}), frozenset({2}), 0.6666666666666666),\n",
       " (frozenset({2}), frozenset({3}), 0.6666666666666666),\n",
       " (frozenset({5}), frozenset({3}), 0.6666666666666666),\n",
       " (frozenset({3}), frozenset({5}), 0.6666666666666666),\n",
       " (frozenset({5}), frozenset({2}), 1.0),\n",
       " (frozenset({2}), frozenset({5}), 1.0),\n",
       " (frozenset({3}), frozenset({1}), 0.6666666666666666),\n",
       " (frozenset({1}), frozenset({3}), 1.0),\n",
       " (frozenset({5}), frozenset({2, 3}), 0.6666666666666666),\n",
       " (frozenset({3}), frozenset({2, 5}), 0.6666666666666666),\n",
       " (frozenset({2}), frozenset({3, 5}), 0.6666666666666666)]"
      ]
     },
     "execution_count": 136,
     "metadata": {},
     "output_type": "execute_result"
    }
   ],
   "source": [
    "rules = generateRules(L, suppData, minConf=0.5)\n",
    "rules"
   ]
  },
  {
   "cell_type": "markdown",
   "metadata": {},
   "source": [
    "# 示例 美国国会投票中的模式"
   ]
  },
  {
   "cell_type": "markdown",
   "metadata": {},
   "source": [
    "### 1. 收集数据：构建美国国会会议记录的事务数据集"
   ]
  },
  {
   "cell_type": "code",
   "execution_count": 139,
   "metadata": {},
   "outputs": [],
   "source": [
    "def getActionIds():\n",
    "    from time import sleep\n",
    "    from votesmart import votesmart\n",
    "    # votesmart.apikey = 'get your api key first'\n",
    "    votesmart.apikey = 'a7fa40adec6f4a77178799fae4441030'\n",
    "    actionIdList = []\n",
    "    billTitleList = []\n",
    "    fr = open('recent20bills.txt')\n",
    "    for line in fr.readlines():\n",
    "        billNum = int(line.split('\\t')[0])\n",
    "        try:\n",
    "            billDetail = votesmart.votes.getBill(billNum) # api call\n",
    "            for action in billDetail.actions:\n",
    "                if action.level == 'House' and (action.stage == 'Passage' or action.stage == 'Amendment Vote'):\n",
    "                    actionId = int(action.actionId)\n",
    "                    print ('bill: %d has actionId: %d' % (billNum, actionId))\n",
    "                    actionIdList.append(actionId)\n",
    "                    billTitleList.append(line.strip().split('\\t')[1])\n",
    "        except:\n",
    "            print (\"problem getting bill %d\" % billNum)\n",
    "        sleep(1)                                      # delay to be polite\n",
    "    return actionIdList, billTitleList\n"
   ]
  },
  {
   "cell_type": "code",
   "execution_count": 140,
   "metadata": {},
   "outputs": [
    {
     "ename": "ModuleNotFoundError",
     "evalue": "No module named 'votesmart'",
     "output_type": "error",
     "traceback": [
      "\u001b[0;31m---\u001b[0m",
      "\u001b[0;31mModuleNotFoundError\u001b[0mTraceback (most recent call last)",
      "\u001b[0;32m<ipython-input-140-4d61702acc75>\u001b[0m in \u001b[0;36m<module>\u001b[0;34m()\u001b[0m\n\u001b[0;32m----> 1\u001b[0;31m \u001b[0mactionIdList\u001b[0m\u001b[0;34m,\u001b[0m \u001b[0mbillTitleList\u001b[0m \u001b[0;34m=\u001b[0m \u001b[0mgetActionIds\u001b[0m\u001b[0;34m(\u001b[0m\u001b[0;34m)\u001b[0m\u001b[0;34m\u001b[0m\u001b[0m\n\u001b[0m",
      "\u001b[0;32m<ipython-input-139-65a0274e7cfc>\u001b[0m in \u001b[0;36mgetActionIds\u001b[0;34m()\u001b[0m\n\u001b[1;32m      1\u001b[0m \u001b[0;32mdef\u001b[0m \u001b[0mgetActionIds\u001b[0m\u001b[0;34m(\u001b[0m\u001b[0;34m)\u001b[0m\u001b[0;34m:\u001b[0m\u001b[0;34m\u001b[0m\u001b[0m\n\u001b[1;32m      2\u001b[0m     \u001b[0;32mfrom\u001b[0m \u001b[0mtime\u001b[0m \u001b[0;32mimport\u001b[0m \u001b[0msleep\u001b[0m\u001b[0;34m\u001b[0m\u001b[0m\n\u001b[0;32m----> 3\u001b[0;31m     \u001b[0;32mfrom\u001b[0m \u001b[0mvotesmart\u001b[0m \u001b[0;32mimport\u001b[0m \u001b[0mvotesmart\u001b[0m\u001b[0;34m\u001b[0m\u001b[0m\n\u001b[0m\u001b[1;32m      4\u001b[0m     \u001b[0;31m# votesmart.apikey = 'get your api key first'\u001b[0m\u001b[0;34m\u001b[0m\u001b[0;34m\u001b[0m\u001b[0m\n\u001b[1;32m      5\u001b[0m     \u001b[0mvotesmart\u001b[0m\u001b[0;34m.\u001b[0m\u001b[0mapikey\u001b[0m \u001b[0;34m=\u001b[0m \u001b[0;34m'a7fa40adec6f4a77178799fae4441030'\u001b[0m\u001b[0;34m\u001b[0m\u001b[0m\n",
      "\u001b[0;31mModuleNotFoundError\u001b[0m: No module named 'votesmart'"
     ]
    }
   ],
   "source": [
    "actionIdList, billTitleList = getActionIds()"
   ]
  },
  {
   "cell_type": "code",
   "execution_count": null,
   "metadata": {
    "collapsed": true
   },
   "outputs": [],
   "source": []
  }
 ],
 "metadata": {
  "kernelspec": {
   "display_name": "Python 3",
   "language": "python",
   "name": "python3"
  },
  "language_info": {
   "codemirror_mode": {
    "name": "ipython",
    "version": 3
   },
   "file_extension": ".py",
   "mimetype": "text/x-python",
   "name": "python",
   "nbconvert_exporter": "python",
   "pygments_lexer": "ipython3",
   "version": "3.6.1"
  }
 },
 "nbformat": 4,
 "nbformat_minor": 2
}
