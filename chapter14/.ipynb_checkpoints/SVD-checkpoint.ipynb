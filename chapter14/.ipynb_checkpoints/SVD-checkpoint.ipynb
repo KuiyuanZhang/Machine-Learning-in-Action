{
 "cells": [
  {
   "cell_type": "code",
   "execution_count": 50,
   "metadata": {
    "collapsed": true
   },
   "outputs": [],
   "source": [
    "from numpy import linalg as la\n",
    "from numpy import *"
   ]
  },
  {
   "cell_type": "code",
   "execution_count": 51,
   "metadata": {},
   "outputs": [
    {
     "data": {
      "text/plain": [
       "array([[-0.14142136, -0.98994949],\n",
       "       [-0.98994949,  0.14142136]])"
      ]
     },
     "execution_count": 51,
     "metadata": {},
     "output_type": "execute_result"
    }
   ],
   "source": [
    "U, Sigma, VT = linalg.svd([[1, 1],[7, 7]])\n",
    "U"
   ]
  },
  {
   "cell_type": "code",
   "execution_count": 52,
   "metadata": {},
   "outputs": [
    {
     "data": {
      "text/plain": [
       "array([  1.00000000e+01,   2.82797782e-16])"
      ]
     },
     "execution_count": 52,
     "metadata": {},
     "output_type": "execute_result"
    }
   ],
   "source": [
    "Sigma"
   ]
  },
  {
   "cell_type": "code",
   "execution_count": 53,
   "metadata": {},
   "outputs": [
    {
     "data": {
      "text/plain": [
       "array([[-0.70710678, -0.70710678],\n",
       "       [ 0.70710678, -0.70710678]])"
      ]
     },
     "execution_count": 53,
     "metadata": {},
     "output_type": "execute_result"
    }
   ],
   "source": [
    "VT"
   ]
  },
  {
   "cell_type": "code",
   "execution_count": 54,
   "metadata": {
    "collapsed": true
   },
   "outputs": [],
   "source": [
    "def loadExData():\n",
    "    return[[1, 1, 1, 0, 0],\n",
    "           [2, 2, 2, 0, 0],\n",
    "           [1, 1, 1, 0, 0],\n",
    "           [5, 5, 5, 0, 0],\n",
    "           [1, 1, 0, 2, 2],\n",
    "           [0, 0, 0, 3, 3],\n",
    "           [0, 0, 0, 1, 1]]\n"
   ]
  },
  {
   "cell_type": "code",
   "execution_count": 55,
   "metadata": {
    "collapsed": true
   },
   "outputs": [],
   "source": [
    "Data = loadExData()\n",
    "U, Sigma, VT = linalg.svd(Data)"
   ]
  },
  {
   "cell_type": "code",
   "execution_count": 56,
   "metadata": {},
   "outputs": [
    {
     "data": {
      "text/plain": [
       "array([  9.72140007e+00,   5.29397912e+00,   6.84226362e-01,\n",
       "         1.28778660e-15,   8.33719667e-17])"
      ]
     },
     "execution_count": 56,
     "metadata": {},
     "output_type": "execute_result"
    }
   ],
   "source": [
    "Sigma"
   ]
  },
  {
   "cell_type": "code",
   "execution_count": 57,
   "metadata": {
    "collapsed": true
   },
   "outputs": [],
   "source": [
    "Sig3 = mat([[Sigma[0], 0, 0], [0, Sigma[1], 0], [0, 0, Sigma[2]]])"
   ]
  },
  {
   "cell_type": "code",
   "execution_count": 58,
   "metadata": {},
   "outputs": [
    {
     "data": {
      "text/plain": [
       "matrix([[  1.00000000e+00,   1.00000000e+00,   1.00000000e+00,\n",
       "          -1.84001054e-16,  -1.84001054e-16],\n",
       "        [  2.00000000e+00,   2.00000000e+00,   2.00000000e+00,\n",
       "           1.31081133e-20,   1.31081133e-20],\n",
       "        [  1.00000000e+00,   1.00000000e+00,   1.00000000e+00,\n",
       "          -5.10536754e-18,  -5.10536754e-18],\n",
       "        [  5.00000000e+00,   5.00000000e+00,   5.00000000e+00,\n",
       "           1.76402449e-16,   1.76402449e-16],\n",
       "        [  1.00000000e+00,   1.00000000e+00,  -3.11299847e-16,\n",
       "           2.00000000e+00,   2.00000000e+00],\n",
       "        [  9.68272219e-17,   4.98989060e-16,  -6.16408399e-16,\n",
       "           3.00000000e+00,   3.00000000e+00],\n",
       "        [  2.77555756e-17,   1.59594560e-16,  -1.94289029e-16,\n",
       "           1.00000000e+00,   1.00000000e+00]])"
      ]
     },
     "execution_count": 58,
     "metadata": {},
     "output_type": "execute_result"
    }
   ],
   "source": [
    "U[:, :3] * Sig3 * VT[:3, :]"
   ]
  },
  {
   "cell_type": "markdown",
   "metadata": {},
   "source": [
    "# 基于协同过滤的推荐引擎"
   ]
  },
  {
   "cell_type": "code",
   "execution_count": 59,
   "metadata": {
    "collapsed": true
   },
   "outputs": [],
   "source": [
    "from numpy import  linalg as la "
   ]
  },
  {
   "cell_type": "code",
   "execution_count": 60,
   "metadata": {
    "collapsed": true
   },
   "outputs": [],
   "source": [
    "# 相似度计算，假定inA和inB 都是列向量\n",
    "# 基于欧氏距离\n",
    "def ecludSim(inA, inB):\n",
    "    return 1.0/(1.0 + la.norm(inA - inB))"
   ]
  },
  {
   "cell_type": "code",
   "execution_count": 61,
   "metadata": {
    "collapsed": true
   },
   "outputs": [],
   "source": [
    "# pearsSim()函数会检查是否存在3个或更多的点。\n",
    "# corrcoef直接计算皮尔逊相关系数，范围[-1, 1]，归一化后[0, 1]\n",
    "def pearsSim(inA, inB):\n",
    "    # 如果不存在，该函数返回1.0，此时两个向量完全相关。\n",
    "    if len(inA) < 3:\n",
    "        return 1.0\n",
    "    return 0.5 + 0.5 * corrcoef(inA, inB, rowvar=0)[0][1]"
   ]
  },
  {
   "cell_type": "code",
   "execution_count": 62,
   "metadata": {
    "collapsed": true
   },
   "outputs": [],
   "source": [
    "# 计算余弦相似度，如果夹角为90度，相似度为0；如果两个向量的方向相同，相似度为1.0\n",
    "def cosSim(inA, inB):\n",
    "    num = float(inA.T*inB)\n",
    "    denom = la.norm(inA)*la.norm(inB)\n",
    "    return 0.5 + 0.5*(num/denom)\n"
   ]
  },
  {
   "cell_type": "code",
   "execution_count": 63,
   "metadata": {},
   "outputs": [
    {
     "data": {
      "text/plain": [
       "1.0"
      ]
     },
     "execution_count": 63,
     "metadata": {},
     "output_type": "execute_result"
    }
   ],
   "source": [
    "# 计算欧氏距离\n",
    "myMat = mat(loadExData())\n",
    "# print myMat\n",
    "ecludSim(myMat[:, 0], myMat[:, 4])\n",
    "ecludSim(myMat[:, 0], myMat[:, 0])"
   ]
  },
  {
   "cell_type": "code",
   "execution_count": 64,
   "metadata": {},
   "outputs": [
    {
     "data": {
      "text/plain": [
       "0.99999999999999989"
      ]
     },
     "execution_count": 64,
     "metadata": {},
     "output_type": "execute_result"
    }
   ],
   "source": [
    "# 计算余弦相似度\n",
    "cosSim(myMat[:, 0], myMat[:, 4])\n",
    "cosSim(myMat[:, 0], myMat[:, 0])\n"
   ]
  },
  {
   "cell_type": "code",
   "execution_count": 65,
   "metadata": {},
   "outputs": [
    {
     "data": {
      "text/plain": [
       "1.0"
      ]
     },
     "execution_count": 65,
     "metadata": {},
     "output_type": "execute_result"
    }
   ],
   "source": [
    "# 计算皮尔逊相关系数\n",
    "pearsSim(myMat[:, 0], myMat[:, 4])\n",
    "pearsSim(myMat[:, 0], myMat[:, 0])"
   ]
  },
  {
   "cell_type": "markdown",
   "metadata": {},
   "source": [
    "# 推荐未尝过的菜肴"
   ]
  },
  {
   "cell_type": "code",
   "execution_count": 66,
   "metadata": {
    "collapsed": true
   },
   "outputs": [],
   "source": [
    "# 基于物品相似度的推荐引擎\n",
    "def standEst(dataMat, user, simMeas, item):\n",
    "    \"\"\"standEst(计算某用户未评分物品中，以对该物品和其他物品评分的用户的物品相似度，然后进行综合评分)\n",
    "\n",
    "    Args:\n",
    "        dataMat         训练数据集\n",
    "        user            用户编号\n",
    "        simMeas         相似度计算方法\n",
    "        item            未评分的物品编号\n",
    "    Returns:\n",
    "        ratSimTotal/simTotal     评分（0～5之间的值）\n",
    "    \"\"\"\n",
    "    # 得到数据集中的物品数目\n",
    "    n = shape(dataMat)[1]\n",
    "    # 初始化两个评分值\n",
    "    simTotal = 0.0\n",
    "    ratSimTotal = 0.0\n",
    "    # 遍历行中的每个物品（对用户评过分的物品进行遍历，并将它与其他物品进行比较）\n",
    "    for j in range(n):\n",
    "        userRating = dataMat[user, j]\n",
    "        # 如果某个物品的评分值为0，则跳过这个物品\n",
    "        if userRating == 0:\n",
    "            continue\n",
    "        # 寻找两个用户都评级的物品\n",
    "        # 变量 overLap 给出的是两个物品当中已经被评分的那个元素的索引ID\n",
    "        # logical_and 计算x1和x2元素的真值。\n",
    "        overLap = nonzero(logical_and(dataMat[:, item].A > 0, dataMat[:, j].A > 0))[0]\n",
    "        # 如果相似度为0，则两着没有任何重合元素，终止本次循环\n",
    "        if len(overLap) == 0:\n",
    "            similarity = 0\n",
    "        # 如果存在重合的物品，则基于这些重合物重新计算相似度。\n",
    "        else:\n",
    "            similarity = simMeas(dataMat[overLap, item], dataMat[overLap, j])\n",
    "        # print 'the %d and %d similarity is : %f'(iten,j,similarity)\n",
    "        # 相似度会不断累加，每次计算时还考虑相似度和当前用户评分的乘积\n",
    "        # similarity  用户相似度，   userRating 用户评分\n",
    "        simTotal += similarity\n",
    "        ratSimTotal += similarity * userRating\n",
    "    if simTotal == 0:\n",
    "        return 0\n",
    "    # 通过除以所有的评分总和，对上述相似度评分的乘积进行归一化，使得最后评分在0~5之间，这些评分用来对预测值进行排序\n",
    "    else:\n",
    "        return ratSimTotal/simTotal"
   ]
  },
  {
   "cell_type": "code",
   "execution_count": 67,
   "metadata": {
    "collapsed": true
   },
   "outputs": [],
   "source": [
    "# recommend()函数，就是推荐引擎，它默认调用standEst()函数，产生了最高的N个推荐结果。\n",
    "# 如果不指定N的大小，则默认值为3。该函数另外的参数还包括相似度计算方法和估计方法\n",
    "def recommend(dataMat, user, N=3, simMeas=cosSim, estMethod=standEst):\n",
    "    \"\"\"svdEst( )\n",
    "\n",
    "    Args:\n",
    "        dataMat         训练数据集\n",
    "        user            用户编号\n",
    "        simMeas         相似度计算方法\n",
    "        estMethod       使用的推荐算法\n",
    "    Returns:\n",
    "        返回最终 N 个推荐结果\n",
    "    \"\"\"\n",
    "    # 寻找未评级的物品\n",
    "    # 对给定的用户建立一个未评分的物品列表\n",
    "    unratedItems = nonzero(dataMat[user, :].A == 0)[1]\n",
    "    # 如果不存在未评分物品，那么就退出函数\n",
    "    if len(unratedItems) == 0:\n",
    "        return 'you rated everything'\n",
    "    # 物品的编号和评分值\n",
    "    itemScores = []\n",
    "    # 在未评分物品上进行循环\n",
    "    for item in unratedItems:\n",
    "        # 获取 item 该物品的评分\n",
    "        estimatedScore = estMethod(dataMat, user, simMeas, item)\n",
    "        itemScores.append((item, estimatedScore))\n",
    "    # 按照评分得分 进行逆排序，获取前N个未评级物品进行推荐\n",
    "    return sorted(itemScores, key=lambda jj: jj[1], reverse=True)[: N]"
   ]
  },
  {
   "cell_type": "code",
   "execution_count": 68,
   "metadata": {},
   "outputs": [
    {
     "data": {
      "text/plain": [
       "matrix([[1, 1, 1, 0, 0],\n",
       "        [2, 2, 2, 0, 0],\n",
       "        [1, 1, 1, 0, 0],\n",
       "        [5, 5, 5, 0, 0],\n",
       "        [1, 1, 0, 2, 2],\n",
       "        [0, 0, 0, 3, 3],\n",
       "        [0, 0, 0, 1, 1]])"
      ]
     },
     "execution_count": 68,
     "metadata": {},
     "output_type": "execute_result"
    }
   ],
   "source": [
    "myMat = mat(loadExData())\n",
    "myMat"
   ]
  },
  {
   "cell_type": "code",
   "execution_count": 69,
   "metadata": {
    "collapsed": true
   },
   "outputs": [],
   "source": [
    "myMat[0,1] = myMat[0,0] = myMat[1,0] = myMat[2, 0] = 4\n",
    "myMat[3,3] = 2"
   ]
  },
  {
   "cell_type": "code",
   "execution_count": 70,
   "metadata": {},
   "outputs": [
    {
     "data": {
      "text/plain": [
       "matrix([[4, 4, 1, 0, 0],\n",
       "        [4, 2, 2, 0, 0],\n",
       "        [4, 1, 1, 0, 0],\n",
       "        [5, 5, 5, 2, 0],\n",
       "        [1, 1, 0, 2, 2],\n",
       "        [0, 0, 0, 3, 3],\n",
       "        [0, 0, 0, 1, 1]])"
      ]
     },
     "execution_count": 70,
     "metadata": {},
     "output_type": "execute_result"
    }
   ],
   "source": [
    "myMat"
   ]
  },
  {
   "cell_type": "code",
   "execution_count": 71,
   "metadata": {},
   "outputs": [
    {
     "data": {
      "text/plain": [
       "[(4, 2.5), (3, 1.9703483892927431)]"
      ]
     },
     "execution_count": 71,
     "metadata": {},
     "output_type": "execute_result"
    }
   ],
   "source": [
    "recommend(myMat, 2)"
   ]
  },
  {
   "cell_type": "code",
   "execution_count": 72,
   "metadata": {},
   "outputs": [
    {
     "data": {
      "text/plain": [
       "[(4, 2.5), (3, 1.9866572968729499)]"
      ]
     },
     "execution_count": 72,
     "metadata": {},
     "output_type": "execute_result"
    }
   ],
   "source": [
    "recommend(myMat, 2, simMeas=ecludSim)"
   ]
  },
  {
   "cell_type": "code",
   "execution_count": 73,
   "metadata": {},
   "outputs": [
    {
     "data": {
      "text/plain": [
       "[(4, 2.5), (3, 2.0)]"
      ]
     },
     "execution_count": 73,
     "metadata": {},
     "output_type": "execute_result"
    }
   ],
   "source": [
    "recommend(myMat, 2, simMeas=pearsSim)"
   ]
  },
  {
   "cell_type": "markdown",
   "metadata": {},
   "source": [
    "# 利用SVD提高推荐的效果"
   ]
  },
  {
   "cell_type": "code",
   "execution_count": 74,
   "metadata": {
    "collapsed": true
   },
   "outputs": [],
   "source": [
    "def loadExData2():\n",
    "    # 书上代码给的示例矩阵\n",
    "    return[[0, 0, 0, 0, 0, 4, 0, 0, 0, 0, 5],\n",
    "           [0, 0, 0, 3, 0, 4, 0, 0, 0, 0, 3],\n",
    "           [0, 0, 0, 0, 4, 0, 0, 1, 0, 4, 0],\n",
    "           [3, 3, 4, 0, 0, 0, 0, 2, 2, 0, 0],\n",
    "           [5, 4, 5, 0, 0, 0, 0, 5, 5, 0, 0],\n",
    "           [0, 0, 0, 0, 5, 0, 1, 0, 0, 5, 0],\n",
    "           [4, 3, 4, 0, 0, 0, 0, 5, 5, 0, 1],\n",
    "           [0, 0, 0, 4, 0, 4, 0, 0, 0, 0, 4],\n",
    "           [0, 0, 0, 2, 0, 2, 5, 0, 0, 1, 2],\n",
    "           [0, 0, 0, 0, 5, 0, 0, 0, 0, 4, 0],\n",
    "           [1, 0, 0, 0, 0, 0, 0, 1, 2, 0, 0]]"
   ]
  },
  {
   "cell_type": "code",
   "execution_count": 76,
   "metadata": {},
   "outputs": [
    {
     "data": {
      "text/plain": [
       "array([ 15.77075346,  11.40670395,  11.03044558,   4.84639758,\n",
       "         3.09292055,   2.58097379,   1.00413543,   0.72817072,\n",
       "         0.43800353,   0.22082113,   0.07367823])"
      ]
     },
     "execution_count": 76,
     "metadata": {},
     "output_type": "execute_result"
    }
   ],
   "source": [
    "U, Sigma, VT = la.svd(mat(loadExData2()))\n",
    "Sigma"
   ]
  },
  {
   "cell_type": "code",
   "execution_count": 77,
   "metadata": {
    "collapsed": true
   },
   "outputs": [],
   "source": [
    "Sig2 = Sigma**2"
   ]
  },
  {
   "cell_type": "code",
   "execution_count": 79,
   "metadata": {},
   "outputs": [
    {
     "name": "stdout",
     "output_type": "stream",
     "text": [
      "主成分： 1, 方差占比：45.89%\n",
      "主成分： 2, 方差占比：69.89%\n",
      "主成分： 3, 方差占比：92.34%\n",
      "主成分： 4, 方差占比：96.68%\n",
      "主成分： 5, 方差占比：98.44%\n",
      "主成分： 6, 方差占比：99.67%\n",
      "主成分： 7, 方差占比：99.86%\n",
      "主成分： 8, 方差占比：99.95%\n",
      "主成分： 9, 方差占比：99.99%\n",
      "主成分：10, 方差占比：100.00%\n",
      "主成分：11, 方差占比：100.00%\n",
      "主成分：12, 方差占比：100.00%\n",
      "主成分：13, 方差占比：100.00%\n",
      "主成分：14, 方差占比：100.00%\n",
      "主成分：15, 方差占比：100.00%\n",
      "主成分：16, 方差占比：100.00%\n",
      "主成分：17, 方差占比：100.00%\n",
      "主成分：18, 方差占比：100.00%\n",
      "主成分：19, 方差占比：100.00%\n",
      "主成分：20, 方差占比：100.00%\n"
     ]
    }
   ],
   "source": [
    "SigmaSum = sum(Sig2)\n",
    "for i in range(20):\n",
    "    SigmaI = sum(Sig2[:i+1])\n",
    "    '''\n",
    "    根据自己的业务情况，就行处理，设置对应的 Singma 次数\n",
    "\n",
    "    通常保留矩阵 80% ～ 90% 的能量，就可以得到重要的特征并取出噪声。\n",
    "    '''\n",
    "    print ('主成分：%s, 方差占比：%s%%' % (format(i+1, '2.0f'), format(SigmaI/SigmaSum*100, '4.2f')))\n",
    "\n"
   ]
  },
  {
   "cell_type": "code",
   "execution_count": 82,
   "metadata": {},
   "outputs": [],
   "source": [
    "\n",
    "# 基于SVD的评分估计\n",
    "# 在recommend() 中，这个函数用于替换对standEst()的调用，该函数对给定用户给定物品构建了一个评分估计值\n",
    "def svdEst(dataMat, user, simMeas, item):\n",
    "    \"\"\"svdEst( )\n",
    "\n",
    "    Args:\n",
    "        dataMat         训练数据集\n",
    "        user            用户编号\n",
    "        simMeas         相似度计算方法\n",
    "        item            未评分的物品编号\n",
    "    Returns:\n",
    "        ratSimTotal/simTotal     评分（0～5之间的值）\n",
    "    \"\"\"\n",
    "    # 物品数目\n",
    "    n = shape(dataMat)[1]\n",
    "    # 对数据集进行SVD分解\n",
    "    simTotal = 0.0\n",
    "    ratSimTotal = 0.0\n",
    "    # 奇异值分解\n",
    "    # 在SVD分解之后，我们只利用包含了90%能量值的奇异值，这些奇异值会以NumPy数组的形式得以保存\n",
    "    U, Sigma, VT = la.svd(dataMat)\n",
    "\n",
    "    # # 分析 Sigma 的长度取值\n",
    "    # analyse_data(Sigma, 20)\n",
    "\n",
    "    # 如果要进行矩阵运算，就必须要用这些奇异值构建出一个对角矩阵\n",
    "    Sig4 = mat(eye(4) * Sigma[: 4])\n",
    "\n",
    "    # 利用U矩阵将物品转换到低维空间中，构建转换后的物品(物品+4个主要的特征)\n",
    "    xformedItems = dataMat.T * U[:, :4] * Sig4.I\n",
    "    print ('dataMat', shape(dataMat))\n",
    "    print ('U[:, :4]', shape(U[:, :4]))\n",
    "    print ('Sig4.I', shape(Sig4.I))\n",
    "    print ('VT[:4, :]', shape(VT[:4, :]))\n",
    "    print ('xformedItems', shape(xformedItems))\n",
    "\n",
    "    # 对于给定的用户，for循环在用户对应行的元素上进行遍历\n",
    "    # 这和standEst()函数中的for循环的目的一样，只不过这里的相似度计算时在低维空间下进行的。\n",
    "    for j in range(n):\n",
    "        userRating = dataMat[user, j]\n",
    "        if userRating == 0 or j == item:\n",
    "            continue\n",
    "        # 相似度的计算方法也会作为一个参数传递给该函数\n",
    "        similarity = simMeas(xformedItems[item, :].T, xformedItems[j, :].T)\n",
    "        # for 循环中加入了一条print语句，以便了解相似度计算的进展情况。如果觉得累赘，可以去掉\n",
    "        print ('the %d and %d similarity is: %f' % (item, j, similarity))\n",
    "        # 对相似度不断累加求和\n",
    "        simTotal += similarity\n",
    "        # 对相似度及对应评分值的乘积求和\n",
    "        ratSimTotal += similarity * userRating\n",
    "    if simTotal == 0:\n",
    "        return 0\n",
    "    else:\n",
    "        # 计算估计评分\n",
    "        return ratSimTotal/simTotal\n"
   ]
  },
  {
   "cell_type": "code",
   "execution_count": 84,
   "metadata": {},
   "outputs": [
    {
     "name": "stdout",
     "output_type": "stream",
     "text": [
      "dataMat (7, 5)\n",
      "U[:, :4] (7, 4)\n",
      "Sig4.I (4, 4)\n",
      "VT[:4, :] (4, 5)\n",
      "xformedItems (5, 4)\n",
      "the 3 and 0 similarity is: 0.441210\n",
      "the 3 and 1 similarity is: 0.523799\n",
      "the 3 and 2 similarity is: 0.650061\n",
      "dataMat (7, 5)\n",
      "U[:, :4] (7, 4)\n",
      "Sig4.I (4, 4)\n",
      "VT[:4, :] (4, 5)\n",
      "xformedItems (5, 4)\n",
      "the 4 and 0 similarity is: 0.561288\n",
      "the 4 and 1 similarity is: 0.475190\n",
      "the 4 and 2 similarity is: 0.343564\n"
     ]
    },
    {
     "data": {
      "text/plain": [
       "[(4, 2.8134358070309271), (3, 2.5463659978758413)]"
      ]
     },
     "execution_count": 84,
     "metadata": {},
     "output_type": "execute_result"
    }
   ],
   "source": [
    "recommend(myMat, 1, estMethod=svdEst)"
   ]
  },
  {
   "cell_type": "code",
   "execution_count": 85,
   "metadata": {},
   "outputs": [
    {
     "name": "stdout",
     "output_type": "stream",
     "text": [
      "dataMat (7, 5)\n",
      "U[:, :4] (7, 4)\n",
      "Sig4.I (4, 4)\n",
      "VT[:4, :] (4, 5)\n",
      "xformedItems (5, 4)\n",
      "the 3 and 0 similarity is: 0.074611\n",
      "the 3 and 1 similarity is: 0.602337\n",
      "the 3 and 2 similarity is: 0.641514\n",
      "dataMat (7, 5)\n",
      "U[:, :4] (7, 4)\n",
      "Sig4.I (4, 4)\n",
      "VT[:4, :] (4, 5)\n",
      "xformedItems (5, 4)\n",
      "the 4 and 0 similarity is: 0.136441\n",
      "the 4 and 1 similarity is: 0.576816\n",
      "the 4 and 2 similarity is: 0.241017\n"
     ]
    },
    {
     "data": {
      "text/plain": [
       "[(4, 2.2859571883866492), (3, 2.1131786800996406)]"
      ]
     },
     "execution_count": 85,
     "metadata": {},
     "output_type": "execute_result"
    }
   ],
   "source": [
    "recommend(myMat, 1, estMethod=svdEst, simMeas=pearsSim)"
   ]
  },
  {
   "cell_type": "markdown",
   "metadata": {},
   "source": [
    "# 基于SVD的图像压缩"
   ]
  },
  {
   "cell_type": "code",
   "execution_count": 97,
   "metadata": {
    "collapsed": true
   },
   "outputs": [],
   "source": [
    "# 图像压缩函数\n",
    "# 加载并转换数据\n",
    "def imgLoadData(filename):\n",
    "    myl = []\n",
    "    # 打开文本文件，并从文件以数组方式读入字符\n",
    "    for line in open(filename).readlines():\n",
    "        newRow = []\n",
    "        for i in range(32):\n",
    "            newRow.append(int(line[i]))\n",
    "        myl.append(newRow)\n",
    "    # 矩阵调入后，就可以在屏幕上输出该矩阵\n",
    "    myMat = mat(myl)\n",
    "    return myMat"
   ]
  },
  {
   "cell_type": "code",
   "execution_count": 98,
   "metadata": {},
   "outputs": [],
   "source": [
    "# 打印矩阵\n",
    "def printMat(inMat, thresh=0.8):\n",
    "    # 由于矩阵保护了浮点数，因此定义浅色和深色，遍历所有矩阵元素，当元素大于阀值时打印1，否则打印0\n",
    "    for i in range(32):\n",
    "        for k in range(32):\n",
    "            if float(inMat[i, k]) > thresh:\n",
    "                print (1,)\n",
    "            else:\n",
    "                print (0,)\n",
    "        print ('')\n"
   ]
  },
  {
   "cell_type": "code",
   "execution_count": 99,
   "metadata": {},
   "outputs": [],
   "source": [
    "# 实现图像压缩，允许基于任意给定的奇异值数目来重构图像\n",
    "def imgCompress(numSV=3, thresh=0.8):\n",
    "    \"\"\"imgCompress( )\n",
    "\n",
    "    Args:\n",
    "        numSV       Sigma长度   \n",
    "        thresh      判断的阈值\n",
    "    \"\"\"\n",
    "    # 构建一个列表\n",
    "    myMat = imgLoadData('0_5.txt')\n",
    "\n",
    "    print (\"****original matrix****\")\n",
    "    # 对原始图像进行SVD分解并重构图像e\n",
    "    printMat(myMat, thresh)\n",
    "\n",
    "    # 通过Sigma 重新构成SigRecom来实现\n",
    "    # Sigma是一个对角矩阵，因此需要建立一个全0矩阵，然后将前面的那些奇异值填充到对角线上。\n",
    "    U, Sigma, VT = la.svd(myMat)\n",
    "    # SigRecon = mat(zeros((numSV, numSV)))\n",
    "    # for k in range(numSV):\n",
    "    #     SigRecon[k, k] = Sigma[k]\n",
    "\n",
    "    # 分析插入的 Sigma 长度\n",
    "    analyse_data(Sigma, 20)\n",
    "\n",
    "    SigRecon = mat(eye(numSV) * Sigma[: numSV])\n",
    "    reconMat = U[:, :numSV] * SigRecon * VT[:numSV, :]\n",
    "    print (\"****reconstructed matrix using %d singular values *****\" % numSV)\n",
    "    printMat(reconMat, thresh)"
   ]
  },
  {
   "cell_type": "code",
   "execution_count": 101,
   "metadata": {},
   "outputs": [],
   "source": [
    "#imgCompress(2)"
   ]
  }
 ],
 "metadata": {
  "kernelspec": {
   "display_name": "Python 3",
   "language": "python",
   "name": "python3"
  },
  "language_info": {
   "codemirror_mode": {
    "name": "ipython",
    "version": 3
   },
   "file_extension": ".py",
   "mimetype": "text/x-python",
   "name": "python",
   "nbconvert_exporter": "python",
   "pygments_lexer": "ipython3",
   "version": "3.6.1"
  }
 },
 "nbformat": 4,
 "nbformat_minor": 2
}
