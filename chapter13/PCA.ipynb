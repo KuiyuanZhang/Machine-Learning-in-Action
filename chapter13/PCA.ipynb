{
 "cells": [
  {
   "cell_type": "code",
   "execution_count": 34,
   "metadata": {
    "collapsed": true
   },
   "outputs": [],
   "source": [
    "from numpy import *\n",
    "import matplotlib.pyplot as plt"
   ]
  },
  {
   "cell_type": "code",
   "execution_count": 35,
   "metadata": {
    "collapsed": true
   },
   "outputs": [],
   "source": [
    "def loadDataSet(fileName, delim='\\t'):\n",
    "    fr = open(fileName)\n",
    "    stringArr = [line.strip().split(delim) for line in fr.readlines()]\n",
    "    datArr = [list(map(float, line)) for line in stringArr]\n",
    "    return mat(datArr)"
   ]
  },
  {
   "cell_type": "code",
   "execution_count": 36,
   "metadata": {
    "collapsed": true
   },
   "outputs": [],
   "source": [
    "def pca(dataMat, topNfeat=9999999):\n",
    "    \"\"\"pca\n",
    "\n",
    "    Args:\n",
    "        dataMat   原数据集矩阵\n",
    "        topNfeat  应用的N个特征\n",
    "    Returns:\n",
    "        lowDDataMat  降维后数据集\n",
    "        reconMat     新的数据集空间\n",
    "    \"\"\"\n",
    "\n",
    "    # 计算每一列的均值\n",
    "    meanVals = mean(dataMat, axis=0)\n",
    "    # print 'meanVals', meanVals\n",
    "\n",
    "    # 每个向量同时都减去 均值\n",
    "    meanRemoved = dataMat - meanVals\n",
    "    # print 'meanRemoved=', meanRemoved\n",
    "\n",
    "    # cov协方差=[(x1-x均值)*(y1-y均值)+(x2-x均值)*(y2-y均值)+...+(xn-x均值)*(yn-y均值)+]/(n-1)\n",
    "    '''\n",
    "    方差：（一维）度量两个随机变量关系的统计量\n",
    "    协方差： （二维）度量各个维度偏离其均值的程度\n",
    "    协方差矩阵：（多维）度量各个维度偏离其均值的程度\n",
    "\n",
    "    当 cov(X, Y)>0时，表明X与Y正相关；(X越大，Y也越大；X越小Y，也越小。这种情况，我们称为“正相关”。)\n",
    "    当 cov(X, Y)<0时，表明X与Y负相关；\n",
    "    当 cov(X, Y)=0时，表明X与Y不相关。\n",
    "    '''\n",
    "    covMat = cov(meanRemoved, rowvar=0)\n",
    "\n",
    "    # eigVals为特征值， eigVects为特征向量\n",
    "    eigVals, eigVects = linalg.eig(mat(covMat))\n",
    "    # print 'eigVals=', eigVals\n",
    "    # print 'eigVects=', eigVects\n",
    "    # 对特征值，进行从小到大的排序，返回从小到大的index序号\n",
    "    # 特征值的逆序就可以得到topNfeat个最大的特征向量\n",
    "    '''\n",
    "    >>> x = np.array([3, 1, 2])\n",
    "    >>> np.argsort(x)\n",
    "    array([1, 2, 0])  # index,1 = 1; index,2 = 2; index,0 = 3\n",
    "    >>> y = np.argsort(x)\n",
    "    >>> y[::-1]\n",
    "    array([0, 2, 1])\n",
    "    >>> y[:-3:-1]\n",
    "    array([0, 2])  # 取出 -1, -2\n",
    "    >>> y[:-6:-1]\n",
    "    array([0, 2, 1])\n",
    "    '''\n",
    "    eigValInd = argsort(eigVals)\n",
    "    # print 'eigValInd1=', eigValInd\n",
    "\n",
    "    # -1表示倒序，返回topN的特征值[-1 到 -(topNfeat+1) 但是不包括-(topNfeat+1)本身的倒叙]\n",
    "    eigValInd = eigValInd[:-(topNfeat+1):-1]\n",
    "    # print 'eigValInd2=', eigValInd\n",
    "    # 重组 eigVects 最大到最小\n",
    "    redEigVects = eigVects[:, eigValInd]\n",
    "    # print 'redEigVects=', redEigVects.T\n",
    "    # 将数据转换到新空间\n",
    "    # print \"---\", shape(meanRemoved), shape(redEigVects)\n",
    "    lowDDataMat = meanRemoved * redEigVects\n",
    "    reconMat = (lowDDataMat * redEigVects.T) + meanVals\n",
    "    # print 'lowDDataMat=', lowDDataMat\n",
    "    # print 'reconMat=', reconMat\n",
    "    return lowDDataMat, reconMat"
   ]
  },
  {
   "cell_type": "code",
   "execution_count": 37,
   "metadata": {},
   "outputs": [],
   "source": [
    "dataMat = loadDataSet('testSet.txt')\n",
    "lowDMat, reconMat = pca(dataMat, 1)"
   ]
  },
  {
   "cell_type": "code",
   "execution_count": 38,
   "metadata": {},
   "outputs": [
    {
     "data": {
      "text/plain": [
       "(1000, 1)"
      ]
     },
     "execution_count": 38,
     "metadata": {},
     "output_type": "execute_result"
    }
   ],
   "source": [
    "shape(lowDMat)"
   ]
  },
  {
   "cell_type": "code",
   "execution_count": 39,
   "metadata": {},
   "outputs": [
    {
     "data": {
      "image/png": "[encoded data removed]",
      "text/plain": [
       "<matplotlib.figure.Figure at 0x118368240>"
      ]
     },
     "metadata": {},
     "output_type": "display_data"
    }
   ],
   "source": [
    "fig = plt.figure()\n",
    "ax = fig.add_subplot(111)\n",
    "ax.scatter(dataMat[:, 0].flatten().A[0], dataMat[:, 1].flatten().A[0], marker='^', s=90)\n",
    "ax.scatter(reconMat[:, 0].flatten().A[0], reconMat[:, 1].flatten().A[0], marker='o', s=50, c='red')\n",
    "plt.show()"
   ]
  },
  {
   "cell_type": "markdown",
   "metadata": {},
   "source": [
    "# 利用PCA对半导体制造数据降维"
   ]
  },
  {
   "cell_type": "code",
   "execution_count": 40,
   "metadata": {
    "collapsed": true
   },
   "outputs": [],
   "source": [
    "def replaceNanWithMean():\n",
    "    datMat = loadDataSet('secom.data', ' ')\n",
    "    numFeat = shape(datMat)[1]\n",
    "    for i in range(numFeat):\n",
    "        # 对value不为NaN的求均值\n",
    "        # .A 返回矩阵基于的数组\n",
    "        meanVal = mean(datMat[nonzero(~isnan(datMat[:, i].A))[0], i])\n",
    "        # 将value为NaN的值赋值为均值\n",
    "        datMat[nonzero(isnan(datMat[:, i].A))[0],i] = meanVal\n",
    "    return datMat"
   ]
  },
  {
   "cell_type": "code",
   "execution_count": 41,
   "metadata": {},
   "outputs": [],
   "source": [
    "dataMat = replaceNanWithMean()\n",
    "meanVals = mean(dataMat, axis=0)\n",
    "meanRemoved = dataMat - meanVals"
   ]
  },
  {
   "cell_type": "code",
   "execution_count": 42,
   "metadata": {
    "collapsed": true
   },
   "outputs": [],
   "source": [
    "covMat = cov(meanVals)"
   ]
  },
  {
   "cell_type": "code",
   "execution_count": 43,
   "metadata": {},
   "outputs": [
    {
     "data": {
      "text/plain": [
       "array([ 371882.9409065])"
      ]
     },
     "execution_count": 43,
     "metadata": {},
     "output_type": "execute_result"
    }
   ],
   "source": [
    "eigVals, eigVexts = linalg.eig(mat(covMat))\n",
    "eigVals"
   ]
  },
  {
   "cell_type": "code",
   "execution_count": null,
   "metadata": {
    "collapsed": true
   },
   "outputs": [],
   "source": []
  },
  {
   "cell_type": "code",
   "execution_count": null,
   "metadata": {
    "collapsed": true
   },
   "outputs": [],
   "source": []
  }
 ],
 "metadata": {
  "kernelspec": {
   "display_name": "Python 3",
   "language": "python",
   "name": "python3"
  },
  "language_info": {
   "codemirror_mode": {
    "name": "ipython",
    "version": 3
   },
   "file_extension": ".py",
   "mimetype": "text/x-python",
   "name": "python",
   "nbconvert_exporter": "python",
   "pygments_lexer": "ipython3",
   "version": "3.6.1"
  }
 },
 "nbformat": 4,
 "nbformat_minor": 2
}
